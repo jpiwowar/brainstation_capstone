{
 "cells": [
  {
   "cell_type": "markdown",
   "metadata": {},
   "source": [
    "# Setup"
   ]
  },
  {
   "cell_type": "markdown",
   "metadata": {},
   "source": [
    "## Libraries and functions"
   ]
  },
  {
   "cell_type": "code",
   "execution_count": 1,
   "metadata": {},
   "outputs": [],
   "source": [
    "#Import all the things!\n",
    "#Utility libraries\n",
    "\n",
    "import glob\n",
    "import os\n",
    "import re\n",
    "import itertools as it\n",
    "\n",
    "#Data wrangling\n",
    "from datetime import datetime\n",
    "from datetime import timedelta\n",
    "import numpy as np\n",
    "import pandas as pd\n",
    "import pandas.tseries.holiday as hol\n",
    "from sklearn.model_selection import train_test_split\n",
    "\n",
    "#Viz\n",
    "import matplotlib.pyplot as plt\n",
    "%matplotlib inline\n"
   ]
  },
  {
   "cell_type": "code",
   "execution_count": 162,
   "metadata": {},
   "outputs": [],
   "source": [
    "def pretty_shape(my_df,desc):\n",
    "    '''\n",
    "    Displays the shape of a dataframe in a prettier format.\n",
    "    I don't know why the default display bugs me. It just does.\n",
    "    my_df: source dataframe\n",
    "    desc: Descriptive text\n",
    "    '''\n",
    "    print(f'\\n{desc}:')\n",
    "    display(pd.DataFrame(my_df.shape,\n",
    "                         columns=['count'])\\\n",
    "                         .rename(index={0:\"rows\",1:\"cols\"})\\\n",
    "                         .T)\n",
    "    \n",
    "\n",
    "# Convenient for illustration purposes\n",
    "def display_embiggen(my_df,rows_temp=50):\n",
    "    '''\n",
    "    Purpose: Expand the default display for Jupyter notebook output, and revert to\n",
    "             previous boring values afterward\n",
    "    Requires: df: input dataframe/Series for display\n",
    "              rows: number of rows to display (default 50)\n",
    "    Warning: Managenent is not responsible for ugly notebook output if you forget to \n",
    "             set the cell output to scroll \n",
    "    '''\n",
    "    with pd.option_context(\"display.min_rows\", rows_temp, \"display.max_rows\", rows_temp):\n",
    "        display(my_df)"
   ]
  },
  {
   "cell_type": "markdown",
   "metadata": {},
   "source": [
    "## Weather data import"
   ]
  },
  {
   "cell_type": "code",
   "execution_count": 66,
   "metadata": {},
   "outputs": [],
   "source": [
    "weather_files=glob.glob('../data/en_climate_hourly_BC_1108395*.csv')\n",
    "weather_data_raw=pd.concat([pd.read_csv(eccc_dump) for eccc_dump in weather_files])\n",
    "#Doesn't need to be pretty, but we don't need spaces and parens in our column headers\n",
    "weather_data_raw.rename(columns=lambda x: re.sub('\\W+','',x),inplace=True)\n",
    "weather_data_raw.rename(columns={'DateTime':'Timestamp'},inplace=True)\n"
   ]
  },
  {
   "cell_type": "markdown",
   "metadata": {},
   "source": [
    "## Trip data import"
   ]
  },
  {
   "cell_type": "code",
   "execution_count": 4,
   "metadata": {},
   "outputs": [],
   "source": [
    "def xform_columns(cols):\n",
    "    '''\n",
    "    Rename columns from Mobi data files.  Not always super-consistent\n",
    "    '''\n",
    "    my_col_map={}\n",
    "    for my_col in cols:\n",
    "        my_col_map[my_col]=re.sub('\\s+','_',re.sub('\\s+\\(.*\\)','',my_col)).lower()\n",
    "        #Handle one oddball.  If there were more, I'd use another data structure.\n",
    "        my_col_map[\"Formula\"] = \"membership_type\"\n",
    "    return my_col_map"
   ]
  },
  {
   "cell_type": "code",
   "execution_count": 5,
   "metadata": {},
   "outputs": [],
   "source": [
    "trip_data_files=glob.glob('../data/Mobi*.*')"
   ]
  },
  {
   "cell_type": "code",
   "execution_count": 6,
   "metadata": {},
   "outputs": [],
   "source": [
    "trip_data_raw=pd.DataFrame(columns=['departure',\n",
    "                                   'return',\n",
    "                                   'bike',\n",
    "                                   'departure_station',\n",
    "                                   'return_station',\n",
    "                                   'membership_type',\n",
    "                                   'covered_distance',\n",
    "                                   'duration',\n",
    "                                   'departure_temperature',\n",
    "                                   'return_temperature'])"
   ]
  },
  {
   "cell_type": "code",
   "execution_count": 7,
   "metadata": {},
   "outputs": [
    {
     "name": "stdout",
     "output_type": "stream",
     "text": [
      "CPU times: user 3min 6s, sys: 7.4 s, total: 3min 14s\n",
      "Wall time: 3min 17s\n"
     ]
    }
   ],
   "source": [
    "%%time\n",
    "#Reading from large Excel files: NOT speedy.\n",
    "for filename in trip_data_files:\n",
    "    my_df=pd.DataFrame()\n",
    "    if re.search('xls',filename):\n",
    "        my_df=pd.read_excel(filename)\n",
    "    elif re.search('csv',filename):\n",
    "        my_df=pd.read_csv(filename)\n",
    "    my_df.rename(columns=xform_columns(my_df.columns),inplace=True)\n",
    "    trip_data_raw=pd.concat([trip_data_raw,\n",
    "                            my_df[['departure',\n",
    "                                   'return',\n",
    "                                   'bike',\n",
    "                                   'departure_station',\n",
    "                                   'return_station',\n",
    "                                   'membership_type',\n",
    "                                   'covered_distance',\n",
    "                                   'duration',\n",
    "                                   'departure_temperature',\n",
    "                                   'return_temperature']]],\n",
    "                           ignore_index=1)"
   ]
  },
  {
   "cell_type": "markdown",
   "metadata": {},
   "source": [
    "## Sunrise/sunset data import\n",
    "Sunrise/sunset timing doesn't vary year-over-year at a level of granularity that matters to us (hourly).  This means that as long as we capture all the possible dates, we only need one year of data."
   ]
  },
  {
   "cell_type": "code",
   "execution_count": 8,
   "metadata": {},
   "outputs": [],
   "source": [
    "# The format of this file is a bit funky, and as fun as it would be to try to get\n",
    "# get pandas to infer the headers from this 3-line monstrosity, we're \n",
    "# on a slightly different mission.\n",
    "#\n",
    "#        Twilight Start                      Twilight End      Hours of      Local Sidereal Time at \n",
    "#        --------------  Sun   Local  Sun   --------------   Illumination   00:00 PST \n",
    "#  Date  Nautical Civil  Rise  Noon   Set   Civil Nautical   Day Sky Total  hh:mm:ss \n",
    "\n",
    "sun_data_raw=pd.read_fwf('../data/sun_2019.txt',skiprows=17,skipfooter=1).dropna()"
   ]
  },
  {
   "cell_type": "code",
   "execution_count": 165,
   "metadata": {},
   "outputs": [
    {
     "name": "stdout",
     "output_type": "stream",
     "text": [
      "\n",
      "Sunrise/sunset data:\n"
     ]
    },
    {
     "data": {
      "text/html": [
       "<div>\n",
       "<style scoped>\n",
       "    .dataframe tbody tr th:only-of-type {\n",
       "        vertical-align: middle;\n",
       "    }\n",
       "\n",
       "    .dataframe tbody tr th {\n",
       "        vertical-align: top;\n",
       "    }\n",
       "\n",
       "    .dataframe thead th {\n",
       "        text-align: right;\n",
       "    }\n",
       "</style>\n",
       "<table border=\"1\" class=\"dataframe\">\n",
       "  <thead>\n",
       "    <tr style=\"text-align: right;\">\n",
       "      <th></th>\n",
       "      <th>rows</th>\n",
       "      <th>cols</th>\n",
       "    </tr>\n",
       "  </thead>\n",
       "  <tbody>\n",
       "    <tr>\n",
       "      <th>count</th>\n",
       "      <td>365</td>\n",
       "      <td>10</td>\n",
       "    </tr>\n",
       "  </tbody>\n",
       "</table>\n",
       "</div>"
      ],
      "text/plain": [
       "       rows  cols\n",
       "count   365    10"
      ]
     },
     "metadata": {},
     "output_type": "display_data"
    },
    {
     "data": {
      "text/html": [
       "<div>\n",
       "<style scoped>\n",
       "    .dataframe tbody tr th:only-of-type {\n",
       "        vertical-align: middle;\n",
       "    }\n",
       "\n",
       "    .dataframe tbody tr th {\n",
       "        vertical-align: top;\n",
       "    }\n",
       "\n",
       "    .dataframe thead th {\n",
       "        text-align: right;\n",
       "    }\n",
       "</style>\n",
       "<table border=\"1\" class=\"dataframe\">\n",
       "  <thead>\n",
       "    <tr style=\"text-align: right;\">\n",
       "      <th></th>\n",
       "      <th>Date</th>\n",
       "      <th>Nautical</th>\n",
       "      <th>Civil</th>\n",
       "      <th>Rise</th>\n",
       "      <th>Noon</th>\n",
       "      <th>Set</th>\n",
       "      <th>Civil Nautical</th>\n",
       "      <th>Day</th>\n",
       "      <th>Sky Total</th>\n",
       "      <th>hh:mm:ss</th>\n",
       "    </tr>\n",
       "  </thead>\n",
       "  <tbody>\n",
       "    <tr>\n",
       "      <th>1</th>\n",
       "      <td>Jan  1</td>\n",
       "      <td>6:50</td>\n",
       "      <td>7:30</td>\n",
       "      <td>8:08</td>\n",
       "      <td>12:16</td>\n",
       "      <td>16:25</td>\n",
       "      <td>17:02  17:43</td>\n",
       "      <td>8.28</td>\n",
       "      <td>1.24  9.53</td>\n",
       "      <td>6:30:16</td>\n",
       "    </tr>\n",
       "    <tr>\n",
       "      <th>2</th>\n",
       "      <td>Jan  2</td>\n",
       "      <td>6:50</td>\n",
       "      <td>7:30</td>\n",
       "      <td>8:08</td>\n",
       "      <td>12:17</td>\n",
       "      <td>16:26</td>\n",
       "      <td>17:03  17:44</td>\n",
       "      <td>8.30</td>\n",
       "      <td>1.24  9.54</td>\n",
       "      <td>6:34:13</td>\n",
       "    </tr>\n",
       "    <tr>\n",
       "      <th>3</th>\n",
       "      <td>Jan  3</td>\n",
       "      <td>6:50</td>\n",
       "      <td>7:30</td>\n",
       "      <td>8:07</td>\n",
       "      <td>12:17</td>\n",
       "      <td>16:27</td>\n",
       "      <td>17:04  17:44</td>\n",
       "      <td>8.32</td>\n",
       "      <td>1.24  9.56</td>\n",
       "      <td>6:38:10</td>\n",
       "    </tr>\n",
       "    <tr>\n",
       "      <th>4</th>\n",
       "      <td>Jan  4</td>\n",
       "      <td>6:50</td>\n",
       "      <td>7:30</td>\n",
       "      <td>8:07</td>\n",
       "      <td>12:17</td>\n",
       "      <td>16:28</td>\n",
       "      <td>17:05  17:45</td>\n",
       "      <td>8.34</td>\n",
       "      <td>1.24  9.58</td>\n",
       "      <td>6:42:06</td>\n",
       "    </tr>\n",
       "    <tr>\n",
       "      <th>5</th>\n",
       "      <td>Jan  5</td>\n",
       "      <td>6:50</td>\n",
       "      <td>7:30</td>\n",
       "      <td>8:07</td>\n",
       "      <td>12:18</td>\n",
       "      <td>16:29</td>\n",
       "      <td>17:06  17:46</td>\n",
       "      <td>8.36</td>\n",
       "      <td>1.24  9.60</td>\n",
       "      <td>6:46:03</td>\n",
       "    </tr>\n",
       "  </tbody>\n",
       "</table>\n",
       "</div>"
      ],
      "text/plain": [
       "     Date Nautical Civil  Rise   Noon    Set Civil Nautical   Day   Sky Total  \\\n",
       "1  Jan  1     6:50  7:30  8:08  12:16  16:25   17:02  17:43  8.28  1.24  9.53   \n",
       "2  Jan  2     6:50  7:30  8:08  12:17  16:26   17:03  17:44  8.30  1.24  9.54   \n",
       "3  Jan  3     6:50  7:30  8:07  12:17  16:27   17:04  17:44  8.32  1.24  9.56   \n",
       "4  Jan  4     6:50  7:30  8:07  12:17  16:28   17:05  17:45  8.34  1.24  9.58   \n",
       "5  Jan  5     6:50  7:30  8:07  12:18  16:29   17:06  17:46  8.36  1.24  9.60   \n",
       "\n",
       "  hh:mm:ss  \n",
       "1  6:30:16  \n",
       "2  6:34:13  \n",
       "3  6:38:10  \n",
       "4  6:42:06  \n",
       "5  6:46:03  "
      ]
     },
     "metadata": {},
     "output_type": "display_data"
    }
   ],
   "source": [
    "pretty_shape(sun_data_raw,\"Sunrise/sunset data\")\n",
    "display(sun_data_raw.head())"
   ]
  },
  {
   "cell_type": "markdown",
   "metadata": {},
   "source": [
    "# Data cleanup and first-pass exploration"
   ]
  },
  {
   "cell_type": "markdown",
   "metadata": {},
   "source": [
    "## Trips"
   ]
  },
  {
   "cell_type": "code",
   "execution_count": 166,
   "metadata": {},
   "outputs": [
    {
     "name": "stdout",
     "output_type": "stream",
     "text": [
      "\n",
      "Trip data:\n"
     ]
    },
    {
     "data": {
      "text/html": [
       "<div>\n",
       "<style scoped>\n",
       "    .dataframe tbody tr th:only-of-type {\n",
       "        vertical-align: middle;\n",
       "    }\n",
       "\n",
       "    .dataframe tbody tr th {\n",
       "        vertical-align: top;\n",
       "    }\n",
       "\n",
       "    .dataframe thead th {\n",
       "        text-align: right;\n",
       "    }\n",
       "</style>\n",
       "<table border=\"1\" class=\"dataframe\">\n",
       "  <thead>\n",
       "    <tr style=\"text-align: right;\">\n",
       "      <th></th>\n",
       "      <th>rows</th>\n",
       "      <th>cols</th>\n",
       "    </tr>\n",
       "  </thead>\n",
       "  <tbody>\n",
       "    <tr>\n",
       "      <th>count</th>\n",
       "      <td>2258816</td>\n",
       "      <td>10</td>\n",
       "    </tr>\n",
       "  </tbody>\n",
       "</table>\n",
       "</div>"
      ],
      "text/plain": [
       "          rows  cols\n",
       "count  2258816    10"
      ]
     },
     "metadata": {},
     "output_type": "display_data"
    }
   ],
   "source": [
    "pretty_shape(trip_data_raw,\"Trip data\")"
   ]
  },
  {
   "cell_type": "code",
   "execution_count": 11,
   "metadata": {},
   "outputs": [
    {
     "data": {
      "text/plain": [
       "departure                   0\n",
       "return                    114\n",
       "bike                     1109\n",
       "departure_station           9\n",
       "return_station            188\n",
       "membership_type           416\n",
       "covered_distance            0\n",
       "duration                    0\n",
       "departure_temperature       0\n",
       "return_temperature          0\n",
       "dtype: int64"
      ]
     },
     "execution_count": 11,
     "metadata": {},
     "output_type": "execute_result"
    }
   ],
   "source": [
    "trip_data_raw.isna().sum()"
   ]
  },
  {
   "cell_type": "code",
   "execution_count": 12,
   "metadata": {
    "scrolled": true
   },
   "outputs": [
    {
     "data": {
      "text/plain": [
       "0001 10th & Cambie                                                   27302\n",
       "0002 Burrard Station                                                 16224\n",
       "0004 Yaletown-Roundhouse Station                                     26814\n",
       "0005 Dunsmuir & Beatty                                               26617\n",
       "0006 Olympic Village Station                                         20617\n",
       "0007 12th & Yukon                                                     2474\n",
       "0008 8th & Ash                                                       15355\n",
       "0009 Spyglass & Seawall                                              13073\n",
       "0010 Stamp's Landing                                                 16734\n",
       "0011 Ontario & Seawall                                               45431\n",
       "0012 Dunsmuir & Richards                                             23559\n",
       "0014 Canada Place                                                    31992\n",
       "0015 Granville & Georgia                                             15512\n",
       "0016 Pender & Burrard                                                15671\n",
       "0017 Marinaside & Davie                                              31422\n",
       "0019 Robson & Hornby                                                 22431\n",
       "0021 Cordova & Granville                                              9217\n",
       "0024 Hornby & Pender                                                 35561\n",
       "0025 Homer & Robson                                                  10257\n",
       "0026 Beatty & Robson                                                 14659\n",
       "0027 Beatty & Nelson                                                 13143\n",
       "0028 Davie & Beach                                                   46136\n",
       "0030 Abbott & Cordova                                                29536\n",
       "0031 Morton & Denman                                                 16447\n",
       "0032 Comox & Denman                                                  27228\n",
       "0033 Robson & Denman                                                 26789\n",
       "0034 Cordova & Bute                                                   4901\n",
       "0035 Coal Harbour Community Centre                                   42676\n",
       "0036 Bute & Robson                                                   27805\n",
       "0037 Hornby & Nelson                                                 26520\n",
       "0039 Helmcken & Burrard                                              18394\n",
       "0040 Cardero & Davie                                                  6154\n",
       "0040 Cardero & Pendrell                                               3548\n",
       "0041 Cardero & Robson                                                18517\n",
       "0044 Pacific & Richards                                              14967\n",
       "0044 Richards & Beach                                                 3509\n",
       "0045 Beach & Hornby                                                    463\n",
       "0047 Chilco & Beach                                                  16942\n",
       "0048 Comox & Broughton                                               10519\n",
       "0050 Bute & Comox                                                    11426\n",
       "0051 Burrard & Smithe                                                    1\n",
       "0051 Smithe & Burrard                                                   25\n",
       "0052 Cambie & Water                                                  21948\n",
       "0053 Keefer & Abbott                                                 34899\n",
       "0054 Expo & Carrall                                                   9956\n",
       "0055 Keefer & Columbia                                               16430\n",
       "0057 Marinaside & Cooperage                                          19927\n",
       "0058 Homer & Smithe                                                  13191\n",
       "0060 Bidwell & Burnaby                                               21955\n",
       "0063 Robson & Granville                                              20865\n",
       "0064 Expo & Smithe                                                   15607\n",
       "0065 Cypress & Cornwall                                              12510\n",
       "0066 Anderson & 2nd                                                  52021\n",
       "0068 Cypress & Broadway                                               3837\n",
       "0069 7th & Granville                                                  7526\n",
       "0070 10th & Granville                                                 7867\n",
       "0071 14th & Granville                                                 4793\n",
       "0072 14th & Cambie                                                    3697\n",
       "0073 Ontario & 5th                                                   17562\n",
       "0074 10th & Main                                                      3519\n",
       "0076 Cypress & 4th                                                   11004\n",
       "0077 Vanier Park                                                      6434\n",
       "0078 Nelson & Mainland                                               18563\n",
       "0079 Nelson & Richards                                               12250\n",
       "0080 Laurel & Broadway                                                5737\n",
       "0081 7th & Heather                                                   12777\n",
       "0082 Richards & Davie                                                19513\n",
       "0083 Aquatic Centre                                                  51597\n",
       "0084 Sunset Beach West                                                9940\n",
       "0087 Broughton & Burnaby                                              7351\n",
       "0088 Harwood & Bute                                                  17364\n",
       "0089 Burrard & Drake                                                 17333\n",
       "0092 Chilco & Barclay                                                15516\n",
       "0093 Chilco & Robson                                                 16455\n",
       "0096 Nicola & Robson                                                 12332\n",
       "0098 Carrall & Hastings                                              10318\n",
       "0099 Vancouver Art Gallery - North Plaza                             14115\n",
       "0101 Stanley Park - Vancouver Aquarium                               13470\n",
       "0102 Stanley Park - Second Beach North                               53755\n",
       "0103 Stanley Park - Third Beach Parking Lot                           5929\n",
       "0104 Stanley Park - Second Beach South                               41304\n",
       "0105 Stanley Park - Totem Poles                                      51119\n",
       "0106 Heather & 14th                                                   3574\n",
       "0107 8th & Ontario                                                   10026\n",
       "0108 1st & Chestnut                                                  13474\n",
       "0108 Cypress & 1st                                                     435\n",
       "0109 7th & Arbutus                                                    6245\n",
       "0110 5th & Arbutus                                                    3281\n",
       "0112 10th & Oak                                                       7797\n",
       "0113 Arbutus & 16th                                                   3562\n",
       "0114 Cypress & 14th                                                   1607\n",
       "0115 Cypress & 16th                                                   1941\n",
       "0119 3rd & Quebec                                                     4709\n",
       "0123 Georgia & Thurlow                                                6356\n",
       "0125 Hamilton & Robson                                                7226\n",
       "0126 Thurlow & Pendrell                                               4177\n",
       "0129 Richards & Robson                                               11407\n",
       "0129 Richards & Robson - TEMP REMOVED                                   18\n",
       "0130 Heather & 16th                                                   3794\n",
       "0132 14th & Ontario                                                   3114\n",
       "0133 Ontario & 16th                                                   5290\n",
       "0134 14th & Main                                                      6264\n",
       "0136 David Lam Park - West                                           13111\n",
       "0137 Beach & Seymour                                                 14725\n",
       "0138 Richards & Helmcken                                              9890\n",
       "0139 Burrard & 4th                                                    5685\n",
       "0140 Burrard & 7th                                                    6642\n",
       "0143 South False Creek Seawall                                        9327\n",
       "0147 Chestnut & McNicoll                                              7584\n",
       "0148 Creekside Park North                                            21159\n",
       "0148 Quebec & Milross                                                  906\n",
       "0150 Alexander & Main                                                12760\n",
       "0152 Arbutus Greenway & 14th                                          3007\n",
       "0153 Arbutus Greenway & Fir                                           5511\n",
       "0154 Kitsilano Beach Park                                            23874\n",
       "0155 Arbutus & McNicoll                                              10720\n",
       "0159 Vine & 4th                                                       9049\n",
       "0161 Alexander & Dunlevy                                              2742\n",
       "0165 Columbia & 4th                                                   8879\n",
       "0166 Alder & 11th                                                     6074\n",
       "0167 Cordova & Columbia                                              15226\n",
       "0170 8th & Yukon                                                         9\n",
       "0171 5th & Yukon                                                     12333\n",
       "0172 10th & Columbia                                                  6592\n",
       "0173 1st & Columbia                                                  14932\n",
       "0173 Columbia & 2nd                                                   2021\n",
       "0174 1st & Manitoba                                                  12149\n",
       "0174 1st & Ontario                                                   23221\n",
       "0176 10th & Ontario                                                   6532\n",
       "0177 Quebec & 1st                                                     5957\n",
       "0179 11th & Kingsway                                                   948\n",
       "0180 Columbia & 14th                                                   359\n",
       "0186 10th & Kingsway                                                   572\n",
       "0187 Bute & Davie                                                    18867\n",
       "0190 Melville & Bute                                                  5355\n",
       "0191 7th & Laurel                                                     2316\n",
       "0192 7th &  Alder                                                      971\n",
       "0193 Science World                                                   16513\n",
       "0196 Drake & Hornby                                                  27535\n",
       "0197 1st & Main                                                       9550\n",
       "0197 1st &¬†Scotia                                                    1374\n",
       "0197 1st &Â Scotia                                                     500\n",
       "0198 6th & Main                                                       4813\n",
       "0199 Georgia & Main                                                  11341\n",
       "0201 Shaw Tower                                                      18944\n",
       "0202 14th & Oak                                                       2021\n",
       "0203 Pine & 14th                                                      1622\n",
       "0204 York & Yew                                                      11267\n",
       "0205 Pine & 10th                                                      3990\n",
       "0206 8th & Scotia                                                     5915\n",
       "0207 Alberni & Jervis                                                 3552\n",
       "0208 Arbutus Greenway & Broadway                                      9799\n",
       "0209 Stanley Park - Information Booth                                55741\n",
       "0211 14th & Alder                                                     4072\n",
       "0212 Union & Dunlevy                                                  1486\n",
       "0212 Union & Gore                                                     3768\n",
       "0213 Pender & Gore                                                    3268\n",
       "0215 Princess & Union                                                  211\n",
       "0218 Carrall & Seawall                                               16215\n",
       "0219 Hawks & Union                                                     489\n",
       "0221 Glen & Union                                                     4889\n",
       "0221 Union & Glen                                                        1\n",
       "0222 Adanac & McLean                                                  5630\n",
       "0223 Commercial & Adanac                                              4047\n",
       "0224 Pender & Commercial                                              1724\n",
       "0225 McLean & Pender                                                  3155\n",
       "0227 Campbell & Hastings                                              3920\n",
       "0228 Keefer & Hawks                                                    512\n",
       "0229 Keefer & Princess                                                7209\n",
       "0230 Alexander & Railway                                              5788\n",
       "0231 Napier & Commercial                                              1933\n",
       "0232 Britannia Parking Lot                                            2016\n",
       "0233 Thornton & National                                              1188\n",
       "0234 Station & National                                               5326\n",
       "0235 Charles & Commercial                                             1730\n",
       "0236 Keith & 6th                                                      6289\n",
       "0237 Glen & 6th                                                       3442\n",
       "0238 Thornton & 1st                                                   7597\n",
       "0239 Grant & Commercial                                               1783\n",
       "0240 2nd & Commercial                                                 1536\n",
       "0241 4th & Commercial                                                 1280\n",
       "0242 8th & Commercial                                                 3374\n",
       "0244 10th & Commercial                                                6153\n",
       "0245 Woodland & 10th                                                  1986\n",
       "0246 Glen & Broadway                                                  1851\n",
       "0248 St George & Broadway                                             1800\n",
       "0249 7th & Woodland                                                   1060\n",
       "0250 Woodland & 4th                                                   1188\n",
       "0252 Woodland & Graveley                                              1167\n",
       "0253 Charles & Woodland                                               2235\n",
       "0254 Grandview Bike Lane & Commercial                                 2248\n",
       "0255 18th & Main                                                      2758\n",
       "0256 Prince Edward & 16th                                              673\n",
       "0257 Prince Edward & 14th                                              780\n",
       "0258 13th & St George                                                 1325\n",
       "0260 10th & Fraser                                                    1644\n",
       "0261 8th & Fraser                                                     1175\n",
       "0262 8th & Prince Edward                                              1779\n",
       "0265 St Catherines & 10th                                             1577\n",
       "0266 St Catherines & 7th                                              2066\n",
       "0272 Pender & Victoria                                                1076\n",
       "0273 Victoria & 4th                                                    666\n",
       "0274 Victoria & 10th                                                  1419\n",
       "0278 15th & Victoria                                                  1752\n",
       "0280 Triumph & Victoria                                               3016\n",
       "0281 Windsor & 14th                                                    984\n",
       "0282 14th & Fraser                                                     826\n",
       "0283 15th & Knight                                                    2367\n",
       "0285 Commercial & Pandora                                             1096\n",
       "0287 Carolina & Great Northern Way                                    3865\n",
       "0297 6th & Prince Edward                                              1349\n",
       "0298 6th & Carolina                                                   1049\n",
       "0300 Bute & Barclay                                                     14\n",
       "0601 Olympic Village Station                                          1706\n",
       "0602 Olympic Village Station - Parking Lot                            1983\n",
       "0980 Workshop - Balancer Bike Check In                                 488\n",
       "0981 Workshop - Service Complete                                       132\n",
       "0982 Workshop - Bike Testing                                            74\n",
       "0990 Balancer Bike Check In                                            684\n",
       "0991 HQ Workshop                                                       107\n",
       "0994 Workshop - Testing                                                  6\n",
       "0994 station for tests                                                   4\n",
       "0995 Workshop - On Deck                                                  1\n",
       "0996 Balancer Bike Check In                                            789\n",
       "0997 HQ Workshop                                                        38\n",
       "0997 WareHouse Workshop                                                442\n",
       "0999 Bike Production                                                     2\n",
       "1000 Eastside Culture Crawl Bike Valet                                   6\n",
       "1000 Fireworks Mobi Bike Valet (brought to you by BEST/Translink)      164\n",
       "1000 Temporary Event: Granville Island Bike Valet                        2\n",
       "1000 Temporary Events Station                                          502\n",
       "1000 Temporary Station - Marketing Events                              821\n",
       "137-0188 Granville Island Public Market                               1614\n",
       "222-0999.4 Smoove_test_4                                                 7\n",
       "223-0999.5 Smoove_test_5                                                 1\n",
       "35-0601 Olympic Village Station                                       7207\n",
       "41-0075 10th & Arbutus                                                 306\n",
       "73-0151 Pine & 4th                                                    2230\n",
       "76-0067 Cypress & 7th                                                  771\n",
       "9999 Smoove_atelier                                                     12\n",
       "Name: return_station, dtype: int64"
      ]
     },
     "metadata": {},
     "output_type": "display_data"
    }
   ],
   "source": [
    "display_embiggen(trip_data_raw['return_station'].value_counts().sort_index(),300)"
   ]
  },
  {
   "cell_type": "code",
   "execution_count": 13,
   "metadata": {},
   "outputs": [
    {
     "data": {
      "text/plain": [
       "238"
      ]
     },
     "execution_count": 13,
     "metadata": {},
     "output_type": "execute_result"
    }
   ],
   "source": [
    "trip_data_raw['departure_station'].value_counts().index.size"
   ]
  },
  {
   "cell_type": "code",
   "execution_count": 14,
   "metadata": {},
   "outputs": [
    {
     "data": {
      "text/plain": [
       "35-0601 Olympic Village Station            7207\n",
       "73-0151 Pine & 4th                         2230\n",
       "137-0188 Granville Island Public Market    1614\n",
       "76-0067 Cypress & 7th                       771\n",
       "41-0075 10th & Arbutus                      306\n",
       "222-0999.4 Smoove_test_4                      7\n",
       "223-0999.5 Smoove_test_5                      1\n",
       "Name: return_station, dtype: int64"
      ]
     },
     "execution_count": 14,
     "metadata": {},
     "output_type": "execute_result"
    }
   ],
   "source": [
    "#Looking at the weird ones...\n",
    "my_re=\"\\d+-\"\n",
    "trip_data_raw.fillna('none')\\\n",
    "            .query(f'return_station.str.contains(\"{my_re}\",case=False)',engine=\"python\")['return_station']\\\n",
    "            .value_counts()"
   ]
  },
  {
   "cell_type": "code",
   "execution_count": 15,
   "metadata": {},
   "outputs": [],
   "source": [
    "# Easy cleanup: Drop trips with neither a departure nor return station\n",
    "trip_data_raw=trip_data_raw.dropna(subset=['return_station','departure_station'])"
   ]
  },
  {
   "cell_type": "code",
   "execution_count": 16,
   "metadata": {},
   "outputs": [
    {
     "data": {
      "text/html": [
       "<div>\n",
       "<style scoped>\n",
       "    .dataframe tbody tr th:only-of-type {\n",
       "        vertical-align: middle;\n",
       "    }\n",
       "\n",
       "    .dataframe tbody tr th {\n",
       "        vertical-align: top;\n",
       "    }\n",
       "\n",
       "    .dataframe thead th {\n",
       "        text-align: right;\n",
       "    }\n",
       "</style>\n",
       "<table border=\"1\" class=\"dataframe\">\n",
       "  <thead>\n",
       "    <tr style=\"text-align: right;\">\n",
       "      <th></th>\n",
       "      <th>departure_station</th>\n",
       "      <th>return_station</th>\n",
       "    </tr>\n",
       "  </thead>\n",
       "  <tbody>\n",
       "    <tr>\n",
       "      <th>0</th>\n",
       "      <td>0012</td>\n",
       "      <td>0041</td>\n",
       "    </tr>\n",
       "    <tr>\n",
       "      <th>1</th>\n",
       "      <td>0187</td>\n",
       "      <td>0048</td>\n",
       "    </tr>\n",
       "    <tr>\n",
       "      <th>2</th>\n",
       "      <td>0248</td>\n",
       "      <td>0244</td>\n",
       "    </tr>\n",
       "    <tr>\n",
       "      <th>3</th>\n",
       "      <td>0030</td>\n",
       "      <td>0174</td>\n",
       "    </tr>\n",
       "    <tr>\n",
       "      <th>4</th>\n",
       "      <td>0093</td>\n",
       "      <td>0032</td>\n",
       "    </tr>\n",
       "  </tbody>\n",
       "</table>\n",
       "</div>"
      ],
      "text/plain": [
       "  departure_station return_station\n",
       "0              0012           0041\n",
       "1              0187           0048\n",
       "2              0248           0244\n",
       "3              0030           0174\n",
       "4              0093           0032"
      ]
     },
     "execution_count": 16,
     "metadata": {},
     "output_type": "execute_result"
    }
   ],
   "source": [
    "# Cleaning up station info.  Comes in two parts:\n",
    "# 1. Remove the leading digits from tho oddball stations \n",
    "# 2. Remove the text names of the stations \n",
    "\n",
    "# This will help aggregation later, since we have station IDs with \n",
    "# inconsistent text descriptions (e.g. 0051), and some legacy ID\n",
    "# conventions (e.g. \"35-0601 Olympic Village Station\" instead of 0601)\n",
    "\n",
    "station_regex=re.compile('(\\d+-)*(\\d+)(\\s.*)')\n",
    "\n",
    "test_df=trip_data_raw.head().copy()\n",
    "test_df[['departure_station','return_station']]\\\n",
    "       .replace(station_regex,r'\\2',regex=True)\n"
   ]
  },
  {
   "cell_type": "code",
   "execution_count": 167,
   "metadata": {},
   "outputs": [
    {
     "name": "stdout",
     "output_type": "stream",
     "text": [
      "\n",
      "Before stations cleanup:\n"
     ]
    },
    {
     "data": {
      "text/html": [
       "<div>\n",
       "<style scoped>\n",
       "    .dataframe tbody tr th:only-of-type {\n",
       "        vertical-align: middle;\n",
       "    }\n",
       "\n",
       "    .dataframe tbody tr th {\n",
       "        vertical-align: top;\n",
       "    }\n",
       "\n",
       "    .dataframe thead th {\n",
       "        text-align: right;\n",
       "    }\n",
       "</style>\n",
       "<table border=\"1\" class=\"dataframe\">\n",
       "  <thead>\n",
       "    <tr style=\"text-align: right;\">\n",
       "      <th></th>\n",
       "      <th>rows</th>\n",
       "      <th>cols</th>\n",
       "    </tr>\n",
       "  </thead>\n",
       "  <tbody>\n",
       "    <tr>\n",
       "      <th>count</th>\n",
       "      <td>2258816</td>\n",
       "      <td>10</td>\n",
       "    </tr>\n",
       "  </tbody>\n",
       "</table>\n",
       "</div>"
      ],
      "text/plain": [
       "          rows  cols\n",
       "count  2258816    10"
      ]
     },
     "metadata": {},
     "output_type": "display_data"
    },
    {
     "data": {
      "text/html": [
       "<div>\n",
       "<style scoped>\n",
       "    .dataframe tbody tr th:only-of-type {\n",
       "        vertical-align: middle;\n",
       "    }\n",
       "\n",
       "    .dataframe tbody tr th {\n",
       "        vertical-align: top;\n",
       "    }\n",
       "\n",
       "    .dataframe thead th {\n",
       "        text-align: right;\n",
       "    }\n",
       "</style>\n",
       "<table border=\"1\" class=\"dataframe\">\n",
       "  <thead>\n",
       "    <tr style=\"text-align: right;\">\n",
       "      <th></th>\n",
       "      <th>return_station</th>\n",
       "      <th>departure_station</th>\n",
       "    </tr>\n",
       "  </thead>\n",
       "  <tbody>\n",
       "    <tr>\n",
       "      <th>0</th>\n",
       "      <td>0012</td>\n",
       "      <td>0041</td>\n",
       "    </tr>\n",
       "    <tr>\n",
       "      <th>1</th>\n",
       "      <td>0187</td>\n",
       "      <td>0048</td>\n",
       "    </tr>\n",
       "    <tr>\n",
       "      <th>2</th>\n",
       "      <td>0248</td>\n",
       "      <td>0244</td>\n",
       "    </tr>\n",
       "    <tr>\n",
       "      <th>3</th>\n",
       "      <td>0030</td>\n",
       "      <td>0174</td>\n",
       "    </tr>\n",
       "    <tr>\n",
       "      <th>4</th>\n",
       "      <td>0093</td>\n",
       "      <td>0032</td>\n",
       "    </tr>\n",
       "  </tbody>\n",
       "</table>\n",
       "</div>"
      ],
      "text/plain": [
       "  return_station departure_station\n",
       "0           0012              0041\n",
       "1           0187              0048\n",
       "2           0248              0244\n",
       "3           0030              0174\n",
       "4           0093              0032"
      ]
     },
     "execution_count": 167,
     "metadata": {},
     "output_type": "execute_result"
    }
   ],
   "source": [
    "# Before\n",
    "pretty_shape(trip_data_raw,\"Before station cleanup\")\n",
    "trip_data_raw[['return_station','departure_station']].head()"
   ]
  },
  {
   "cell_type": "code",
   "execution_count": 18,
   "metadata": {},
   "outputs": [],
   "source": [
    "# Update return and departure stations for all trips\n",
    "trip_data_raw[['return_station','departure_station']]=\\\n",
    "    trip_data_raw[['departure_station','return_station']]\\\n",
    "                 .replace(station_regex,r'\\2',regex=True)"
   ]
  },
  {
   "cell_type": "code",
   "execution_count": 168,
   "metadata": {},
   "outputs": [
    {
     "name": "stdout",
     "output_type": "stream",
     "text": [
      "\n",
      "After stations cleanup:\n"
     ]
    },
    {
     "data": {
      "text/html": [
       "<div>\n",
       "<style scoped>\n",
       "    .dataframe tbody tr th:only-of-type {\n",
       "        vertical-align: middle;\n",
       "    }\n",
       "\n",
       "    .dataframe tbody tr th {\n",
       "        vertical-align: top;\n",
       "    }\n",
       "\n",
       "    .dataframe thead th {\n",
       "        text-align: right;\n",
       "    }\n",
       "</style>\n",
       "<table border=\"1\" class=\"dataframe\">\n",
       "  <thead>\n",
       "    <tr style=\"text-align: right;\">\n",
       "      <th></th>\n",
       "      <th>rows</th>\n",
       "      <th>cols</th>\n",
       "    </tr>\n",
       "  </thead>\n",
       "  <tbody>\n",
       "    <tr>\n",
       "      <th>count</th>\n",
       "      <td>2258816</td>\n",
       "      <td>10</td>\n",
       "    </tr>\n",
       "  </tbody>\n",
       "</table>\n",
       "</div>"
      ],
      "text/plain": [
       "          rows  cols\n",
       "count  2258816    10"
      ]
     },
     "metadata": {},
     "output_type": "display_data"
    },
    {
     "data": {
      "text/html": [
       "<div>\n",
       "<style scoped>\n",
       "    .dataframe tbody tr th:only-of-type {\n",
       "        vertical-align: middle;\n",
       "    }\n",
       "\n",
       "    .dataframe tbody tr th {\n",
       "        vertical-align: top;\n",
       "    }\n",
       "\n",
       "    .dataframe thead th {\n",
       "        text-align: right;\n",
       "    }\n",
       "</style>\n",
       "<table border=\"1\" class=\"dataframe\">\n",
       "  <thead>\n",
       "    <tr style=\"text-align: right;\">\n",
       "      <th></th>\n",
       "      <th>return_station</th>\n",
       "      <th>departure_station</th>\n",
       "    </tr>\n",
       "  </thead>\n",
       "  <tbody>\n",
       "    <tr>\n",
       "      <th>0</th>\n",
       "      <td>0012</td>\n",
       "      <td>0041</td>\n",
       "    </tr>\n",
       "    <tr>\n",
       "      <th>1</th>\n",
       "      <td>0187</td>\n",
       "      <td>0048</td>\n",
       "    </tr>\n",
       "    <tr>\n",
       "      <th>2</th>\n",
       "      <td>0248</td>\n",
       "      <td>0244</td>\n",
       "    </tr>\n",
       "    <tr>\n",
       "      <th>3</th>\n",
       "      <td>0030</td>\n",
       "      <td>0174</td>\n",
       "    </tr>\n",
       "    <tr>\n",
       "      <th>4</th>\n",
       "      <td>0093</td>\n",
       "      <td>0032</td>\n",
       "    </tr>\n",
       "  </tbody>\n",
       "</table>\n",
       "</div>"
      ],
      "text/plain": [
       "  return_station departure_station\n",
       "0           0012              0041\n",
       "1           0187              0048\n",
       "2           0248              0244\n",
       "3           0030              0174\n",
       "4           0093              0032"
      ]
     },
     "execution_count": 168,
     "metadata": {},
     "output_type": "execute_result"
    }
   ],
   "source": [
    "#After\n",
    "pretty_shape(trip_data_raw,\"After station cleanup\")\n",
    "trip_data_raw[['return_station','departure_station']].head()"
   ]
  },
  {
   "cell_type": "code",
   "execution_count": 20,
   "metadata": {},
   "outputs": [],
   "source": [
    "# We need to drop station returns or departures for the \"admin\" station IDs \n",
    "# (workshop, events, etc). IDs pulled from the list above\n",
    "drop_stations=[\"0980\",\"0981\",\"0982\",\n",
    "               \"0990\",\"0991\",\"0992\",\"0993\",\"0994\",\"0995\",\"0996\",\"0997\",\"0998\",\n",
    "               \"0999\",\"1000\",\"9999\",\"222-0999.4\"]\n",
    "qstr=f'return_station in {drop_stations} | departure_station in {drop_stations}'\n",
    "\n",
    "trip_data_raw.drop(trip_data_raw.query(qstr).index,inplace=True)"
   ]
  },
  {
   "cell_type": "code",
   "execution_count": 21,
   "metadata": {},
   "outputs": [
    {
     "data": {
      "text/plain": [
       "(2258816, 10)"
      ]
     },
     "execution_count": 21,
     "metadata": {},
     "output_type": "execute_result"
    }
   ],
   "source": [
    "pretty_shape(trip_data_raw,\"After dropping stations\")"
   ]
  },
  {
   "cell_type": "code",
   "execution_count": 22,
   "metadata": {},
   "outputs": [
    {
     "data": {
      "text/plain": [
       "departure                   0\n",
       "return                      0\n",
       "bike                     1059\n",
       "departure_station           0\n",
       "return_station              0\n",
       "membership_type           252\n",
       "covered_distance            0\n",
       "duration                    0\n",
       "departure_temperature       0\n",
       "return_temperature          0\n",
       "dtype: int64"
      ]
     },
     "execution_count": 22,
     "metadata": {},
     "output_type": "execute_result"
    }
   ],
   "source": [
    "# Still have some nulls (bike ids and memberships), but none that we care about for the aggregation\n",
    "trip_data_raw.isna().sum()"
   ]
  },
  {
   "cell_type": "markdown",
   "metadata": {},
   "source": [
    "Checking out the time variables (return and departure), there are some interesting things to see:"
   ]
  },
  {
   "cell_type": "code",
   "execution_count": 23,
   "metadata": {},
   "outputs": [
    {
     "name": "stdout",
     "output_type": "stream",
     "text": [
      "Departures:\n"
     ]
    },
    {
     "data": {
      "text/plain": [
       "count                 2258816\n",
       "unique                  49137\n",
       "top       2019-08-06 17:00:00\n",
       "freq                      588\n",
       "first     2017-01-01 00:00:00\n",
       "last      2020-03-01 00:00:00\n",
       "Name: departure, dtype: object"
      ]
     },
     "metadata": {},
     "output_type": "display_data"
    },
    {
     "name": "stdout",
     "output_type": "stream",
     "text": [
      "\n",
      "Returns:\n"
     ]
    },
    {
     "data": {
      "text/plain": [
       "count                 2258816\n",
       "unique                  48936\n",
       "top       2019-07-08 18:00:00\n",
       "freq                      607\n",
       "first     2017-01-01 01:00:00\n",
       "last      2020-03-02 09:00:00\n",
       "Name: return, dtype: object"
      ]
     },
     "metadata": {},
     "output_type": "display_data"
    }
   ],
   "source": [
    "print('Departures:')\n",
    "display(pd.to_datetime(trip_data_raw['departure']).describe())\n",
    "print('\\nReturns:')\n",
    "display(pd.to_datetime(trip_data_raw['return']).describe())"
   ]
  },
  {
   "cell_type": "markdown",
   "metadata": {},
   "source": [
    "Not only do the unique counts vary, but there are too many unique hours to account for our time period (Jan 2017-Feb 2020 should be roughly 8k\\*3=24k, not ~50k.\n",
    "\n",
    "According to Mobi, their trip data has been summarized to the hour, in part to protect member anonymity.  Erm, yeah, about that:\n"
   ]
  },
  {
   "cell_type": "code",
   "execution_count": 24,
   "metadata": {},
   "outputs": [
    {
     "data": {
      "text/plain": [
       "4/9/19 20:32    1\n",
       "4/9/19 20:50    1\n",
       "4/1/19 23:50    1\n",
       "4/9/19 13:44    1\n",
       "4/5/19 13:27    1\n",
       "Name: departure, dtype: int64"
      ]
     },
     "execution_count": 24,
     "metadata": {},
     "output_type": "execute_result"
    }
   ],
   "source": [
    "trip_data_raw['departure'].value_counts().tail()"
   ]
  },
  {
   "cell_type": "markdown",
   "metadata": {},
   "source": [
    "So, how do things look if we make the datestamps look like they should?"
   ]
  },
  {
   "cell_type": "code",
   "execution_count": 25,
   "metadata": {},
   "outputs": [
    {
     "data": {
      "text/plain": [
       "count                 2258816\n",
       "unique                  26923\n",
       "top       2019-08-06 17:00:00\n",
       "freq                      588\n",
       "first     2017-01-01 00:00:00\n",
       "last      2020-03-01 00:00:00\n",
       "Name: departure, dtype: object"
      ]
     },
     "execution_count": 25,
     "metadata": {},
     "output_type": "execute_result"
    }
   ],
   "source": [
    "pd.to_datetime(trip_data_raw['departure']).dt.floor('h').describe()"
   ]
  },
  {
   "cell_type": "markdown",
   "metadata": {},
   "source": [
    "That is _significantly_ better.  Whew."
   ]
  },
  {
   "cell_type": "code",
   "execution_count": 26,
   "metadata": {},
   "outputs": [],
   "source": [
    "def fix_dates(my_df,series_name):\n",
    "    print(f'\\nBefore ({series_name}):')\n",
    "    display(my_df[series_name].describe())\n",
    "    my_df[series_name]=pd.to_datetime(my_df[series_name]).dt.floor('h')\n",
    "    print(f'\\nAfter ({series_name}):')\n",
    "    display(my_df[series_name].describe())"
   ]
  },
  {
   "cell_type": "code",
   "execution_count": 27,
   "metadata": {},
   "outputs": [
    {
     "name": "stdout",
     "output_type": "stream",
     "text": [
      "\n",
      "Before (departure):\n"
     ]
    },
    {
     "data": {
      "text/plain": [
       "count            2258816\n",
       "unique             49141\n",
       "top       8/6/2019 17:00\n",
       "freq                 588\n",
       "Name: departure, dtype: object"
      ]
     },
     "metadata": {},
     "output_type": "display_data"
    },
    {
     "name": "stdout",
     "output_type": "stream",
     "text": [
      "\n",
      "After (departure):\n"
     ]
    },
    {
     "data": {
      "text/plain": [
       "count                 2258816\n",
       "unique                  26923\n",
       "top       2019-08-06 17:00:00\n",
       "freq                      588\n",
       "first     2017-01-01 00:00:00\n",
       "last      2020-03-01 00:00:00\n",
       "Name: departure, dtype: object"
      ]
     },
     "metadata": {},
     "output_type": "display_data"
    },
    {
     "name": "stdout",
     "output_type": "stream",
     "text": [
      "\n",
      "Before (return):\n"
     ]
    },
    {
     "data": {
      "text/plain": [
       "count            2258816\n",
       "unique             48963\n",
       "top       7/8/2019 18:00\n",
       "freq                 607\n",
       "Name: return, dtype: object"
      ]
     },
     "metadata": {},
     "output_type": "display_data"
    },
    {
     "name": "stdout",
     "output_type": "stream",
     "text": [
      "\n",
      "After (return):\n"
     ]
    },
    {
     "data": {
      "text/plain": [
       "count                 2258816\n",
       "unique                  26927\n",
       "top       2019-07-08 18:00:00\n",
       "freq                      607\n",
       "first     2017-01-01 01:00:00\n",
       "last      2020-03-02 09:00:00\n",
       "Name: return, dtype: object"
      ]
     },
     "metadata": {},
     "output_type": "display_data"
    }
   ],
   "source": [
    "fix_dates(trip_data_raw,'departure')\n",
    "fix_dates(trip_data_raw,'return')"
   ]
  },
  {
   "cell_type": "markdown",
   "metadata": {},
   "source": [
    "## Weather"
   ]
  },
  {
   "cell_type": "code",
   "execution_count": 67,
   "metadata": {
    "scrolled": true
   },
   "outputs": [
    {
     "name": "stdout",
     "output_type": "stream",
     "text": [
      "<class 'pandas.core.frame.DataFrame'>\n",
      "Int64Index: 27720 entries, 0 to 743\n",
      "Data columns (total 28 columns):\n",
      " #   Column            Non-Null Count  Dtype  \n",
      "---  ------            --------------  -----  \n",
      " 0   Longitudex        27720 non-null  float64\n",
      " 1   Latitudey         27720 non-null  float64\n",
      " 2   StationName       27720 non-null  object \n",
      " 3   ClimateID         27720 non-null  int64  \n",
      " 4   Timestamp         27720 non-null  object \n",
      " 5   Year              27720 non-null  int64  \n",
      " 6   Month             27720 non-null  int64  \n",
      " 7   Day               27720 non-null  int64  \n",
      " 8   Time              27720 non-null  object \n",
      " 9   TempC             27714 non-null  float64\n",
      " 10  TempFlag          0 non-null      float64\n",
      " 11  DewPointTempC     27714 non-null  float64\n",
      " 12  DewPointTempFlag  0 non-null      float64\n",
      " 13  RelHum            27714 non-null  float64\n",
      " 14  RelHumFlag        0 non-null      float64\n",
      " 15  WindDir10sdeg     27679 non-null  float64\n",
      " 16  WindDirFlag       0 non-null      float64\n",
      " 17  WindSpdkmh        27714 non-null  float64\n",
      " 18  WindSpdFlag       0 non-null      float64\n",
      " 19  Visibilitykm      27714 non-null  float64\n",
      " 20  VisibilityFlag    0 non-null      float64\n",
      " 21  StnPresskPa       27714 non-null  float64\n",
      " 22  StnPressFlag      0 non-null      float64\n",
      " 23  Hmdx              1365 non-null   float64\n",
      " 24  HmdxFlag          0 non-null      float64\n",
      " 25  WindChill         1335 non-null   float64\n",
      " 26  WindChillFlag     0 non-null      float64\n",
      " 27  Weather           12415 non-null  object \n",
      "dtypes: float64(20), int64(4), object(4)\n",
      "memory usage: 6.1+ MB\n"
     ]
    },
    {
     "data": {
      "text/plain": [
       "None"
      ]
     },
     "metadata": {},
     "output_type": "display_data"
    },
    {
     "data": {
      "text/plain": [
       "Longitudex              0\n",
       "Latitudey               0\n",
       "StationName             0\n",
       "ClimateID               0\n",
       "Timestamp               0\n",
       "Year                    0\n",
       "Month                   0\n",
       "Day                     0\n",
       "Time                    0\n",
       "TempC                   6\n",
       "TempFlag            27720\n",
       "DewPointTempC           6\n",
       "DewPointTempFlag    27720\n",
       "RelHum                  6\n",
       "RelHumFlag          27720\n",
       "WindDir10sdeg          41\n",
       "WindDirFlag         27720\n",
       "WindSpdkmh              6\n",
       "WindSpdFlag         27720\n",
       "Visibilitykm            6\n",
       "VisibilityFlag      27720\n",
       "StnPresskPa             6\n",
       "StnPressFlag        27720\n",
       "Hmdx                26355\n",
       "HmdxFlag            27720\n",
       "WindChill           26385\n",
       "WindChillFlag       27720\n",
       "Weather             15305\n",
       "dtype: int64"
      ]
     },
     "metadata": {},
     "output_type": "display_data"
    },
    {
     "data": {
      "text/plain": [
       "(27720, 28)"
      ]
     },
     "metadata": {},
     "output_type": "display_data"
    },
    {
     "data": {
      "text/plain": [
       "none                                            15305\n",
       "Rain                                             2886\n",
       "Cloudy                                           2588\n",
       "Mostly Cloudy                                    1945\n",
       "Mainly Clear                                     1931\n",
       "Clear                                            1169\n",
       "Rain,Fog                                          390\n",
       "Rain Showers                                      328\n",
       "Fog                                               303\n",
       "Snow                                              218\n",
       "Moderate Rain                                     121\n",
       "Moderate Rain,Fog                                 116\n",
       "Smoke                                              98\n",
       "Drizzle,Fog                                        93\n",
       "Drizzle                                            35\n",
       "Rain,Drizzle,Fog                                   31\n",
       "Rain,Snow                                          22\n",
       "Snow,Fog                                           21\n",
       "Moderate Snow                                      16\n",
       "Snow Showers                                       13\n",
       "Heavy Rain,Fog                                     13\n",
       "Rain Showers,Fog                                   10\n",
       "Rain,Snow,Fog                                      10\n",
       "Freezing Fog                                        9\n",
       "Rain,Drizzle                                        8\n",
       "Haze                                                7\n",
       "Freezing Rain,Fog                                   4\n",
       "Moderate Rain Showers                               4\n",
       "Heavy Snow                                          4\n",
       "Heavy Rain                                          3\n",
       "Rain,Ice Pellets                                    2\n",
       "Thunderstorms                                       2\n",
       "Moderate Rain,Drizzle,Fog                           1\n",
       "Snow Grains                                         1\n",
       "Rain Showers,Snow Pellets                           1\n",
       "Freezing Rain                                       1\n",
       "Rain Showers,Snow Showers,Fog                       1\n",
       "Moderate Snow,Blowing Snow                          1\n",
       "Snow,Ice Pellets,Fog                                1\n",
       "Heavy Rain,Moderate Hail,Fog                        1\n",
       "Moderate Rain,Snow,Fog                              1\n",
       "Fog,Smoke                                           1\n",
       "Rain Showers,Snow Showers                           1\n",
       "Moderate Rain,Drizzle                               1\n",
       "Moderate Snow,Fog                                   1\n",
       "Ice Pellets                                         1\n",
       "Heavy Rain Showers,Moderate Snow Pellets,Fog        1\n",
       "Name: Weather, dtype: int64"
      ]
     },
     "metadata": {},
     "output_type": "display_data"
    }
   ],
   "source": [
    "display(weather_data_raw.info())\n",
    "display(weather_data_raw.isna().sum())\n",
    "pretty_shape(weather_data_raw,\"Raw weather data records\")\n",
    "display(weather_data_raw.Weather.fillna(\"none\").value_counts())"
   ]
  },
  {
   "cell_type": "code",
   "execution_count": 68,
   "metadata": {},
   "outputs": [
    {
     "name": "stdout",
     "output_type": "stream",
     "text": [
      "count                27720\n",
      "unique               27720\n",
      "top       2019-09-17 08:00\n",
      "freq                     1\n",
      "Name: Timestamp, dtype: object\n",
      "0    2017-10-01 00:00\n",
      "Name: Timestamp, dtype: object\n"
     ]
    }
   ],
   "source": [
    "#Looks like we didn't get these in order?\n",
    "#Also need to convert Timestamp column to a timestamp\n",
    "print(weather_data_raw['Timestamp'].describe())\n",
    "print(weather_data_raw['Timestamp'].head(1))"
   ]
  },
  {
   "cell_type": "code",
   "execution_count": 69,
   "metadata": {},
   "outputs": [
    {
     "name": "stdout",
     "output_type": "stream",
     "text": [
      "count                   27720\n",
      "unique                  27720\n",
      "top       2017-09-24 19:00:00\n",
      "freq                        1\n",
      "first     2017-01-01 00:00:00\n",
      "last      2020-02-29 23:00:00\n",
      "Name: Timestamp, dtype: object\n"
     ]
    }
   ],
   "source": [
    "weather_data_raw['Timestamp']=\\\n",
    "    pd.to_datetime(weather_data_raw['Timestamp'])\n",
    "weather_data_raw.sort_values('Timestamp',inplace=True)\n",
    "print(weather_data_raw['Timestamp'].describe())"
   ]
  },
  {
   "cell_type": "code",
   "execution_count": 70,
   "metadata": {},
   "outputs": [
    {
     "data": {
      "text/plain": [
       "2    7289\n",
       "1     718\n",
       "5       1\n",
       "4       1\n",
       "dtype: int64"
      ]
     },
     "metadata": {},
     "output_type": "display_data"
    }
   ],
   "source": [
    "# There are a lot of gaps in the reported weather data, but spot-checks suggest \n",
    "# that they're pretty consistent.  It could be that descriptive weather notes are \n",
    "# only recorded every few hours, or when a notable change has occurred.\n",
    "gap_lengths = pd.Series(([len(list(group_iter)) for k, group_iter in it.groupby(weather_data_raw['Weather'].isnull()) if k]))\n",
    "display(gap_lengths.value_counts())\n",
    "#Thanks to the brilliant nerd who posted about this \"finding the length of gaps\"\n",
    "#solution on stackoverflow: https://stackoverflow.com/questions/16857407/pandas-run-length-of-nan-holes"
   ]
  },
  {
   "cell_type": "code",
   "execution_count": 71,
   "metadata": {},
   "outputs": [],
   "source": [
    "# Most of the gaps are 1 or two hours.  Filling forward should be reasonable.\n",
    "weather_data_raw['Weather'].fillna(method='ffill',inplace=True)"
   ]
  },
  {
   "cell_type": "code",
   "execution_count": 72,
   "metadata": {},
   "outputs": [
    {
     "data": {
      "text/plain": [
       "1"
      ]
     },
     "execution_count": 72,
     "metadata": {},
     "output_type": "execute_result"
    }
   ],
   "source": [
    "#Did we get em all?\n",
    "weather_data_raw.Weather.isna().sum()"
   ]
  },
  {
   "cell_type": "code",
   "execution_count": 73,
   "metadata": {},
   "outputs": [
    {
     "data": {
      "text/html": [
       "<div>\n",
       "<style scoped>\n",
       "    .dataframe tbody tr th:only-of-type {\n",
       "        vertical-align: middle;\n",
       "    }\n",
       "\n",
       "    .dataframe tbody tr th {\n",
       "        vertical-align: top;\n",
       "    }\n",
       "\n",
       "    .dataframe thead th {\n",
       "        text-align: right;\n",
       "    }\n",
       "</style>\n",
       "<table border=\"1\" class=\"dataframe\">\n",
       "  <thead>\n",
       "    <tr style=\"text-align: right;\">\n",
       "      <th></th>\n",
       "      <th>Longitudex</th>\n",
       "      <th>Latitudey</th>\n",
       "      <th>StationName</th>\n",
       "      <th>ClimateID</th>\n",
       "      <th>Timestamp</th>\n",
       "      <th>Year</th>\n",
       "      <th>Month</th>\n",
       "      <th>Day</th>\n",
       "      <th>Time</th>\n",
       "      <th>TempC</th>\n",
       "      <th>...</th>\n",
       "      <th>WindSpdFlag</th>\n",
       "      <th>Visibilitykm</th>\n",
       "      <th>VisibilityFlag</th>\n",
       "      <th>StnPresskPa</th>\n",
       "      <th>StnPressFlag</th>\n",
       "      <th>Hmdx</th>\n",
       "      <th>HmdxFlag</th>\n",
       "      <th>WindChill</th>\n",
       "      <th>WindChillFlag</th>\n",
       "      <th>Weather</th>\n",
       "    </tr>\n",
       "  </thead>\n",
       "  <tbody>\n",
       "    <tr>\n",
       "      <th>0</th>\n",
       "      <td>-123.18</td>\n",
       "      <td>49.19</td>\n",
       "      <td>VANCOUVER INTL A</td>\n",
       "      <td>1108395</td>\n",
       "      <td>2017-01-01</td>\n",
       "      <td>2017</td>\n",
       "      <td>1</td>\n",
       "      <td>1</td>\n",
       "      <td>00:00</td>\n",
       "      <td>1.2</td>\n",
       "      <td>...</td>\n",
       "      <td>NaN</td>\n",
       "      <td>19.3</td>\n",
       "      <td>NaN</td>\n",
       "      <td>100.54</td>\n",
       "      <td>NaN</td>\n",
       "      <td>NaN</td>\n",
       "      <td>NaN</td>\n",
       "      <td>NaN</td>\n",
       "      <td>NaN</td>\n",
       "      <td>NaN</td>\n",
       "    </tr>\n",
       "  </tbody>\n",
       "</table>\n",
       "<p>1 rows × 28 columns</p>\n",
       "</div>"
      ],
      "text/plain": [
       "   Longitudex  Latitudey       StationName  ClimateID  Timestamp  Year  Month  \\\n",
       "0     -123.18      49.19  VANCOUVER INTL A    1108395 2017-01-01  2017      1   \n",
       "\n",
       "   Day   Time  TempC  ...  WindSpdFlag  Visibilitykm  VisibilityFlag  \\\n",
       "0    1  00:00    1.2  ...          NaN          19.3             NaN   \n",
       "\n",
       "   StnPresskPa  StnPressFlag  Hmdx  HmdxFlag  WindChill  WindChillFlag  \\\n",
       "0       100.54           NaN   NaN       NaN        NaN            NaN   \n",
       "\n",
       "   Weather  \n",
       "0      NaN  \n",
       "\n",
       "[1 rows x 28 columns]"
      ]
     },
     "execution_count": 73,
     "metadata": {},
     "output_type": "execute_result"
    }
   ],
   "source": [
    "# You gotta be kidding me.\n",
    "weather_data_raw[weather_data_raw['Weather'].isna()]"
   ]
  },
  {
   "cell_type": "code",
   "execution_count": 74,
   "metadata": {},
   "outputs": [
    {
     "data": {
      "text/plain": [
       "0"
      ]
     },
     "execution_count": 74,
     "metadata": {},
     "output_type": "execute_result"
    }
   ],
   "source": [
    "# That makes sense. Fill-forward isn't going to catch the first record in the dataset.\n",
    "weather_data_raw['Weather'].fillna(method='bfill',inplace=True)\n",
    "weather_data_raw.Weather.isna().sum()"
   ]
  },
  {
   "cell_type": "code",
   "execution_count": 75,
   "metadata": {},
   "outputs": [
    {
     "data": {
      "text/html": [
       "<div>\n",
       "<style scoped>\n",
       "    .dataframe tbody tr th:only-of-type {\n",
       "        vertical-align: middle;\n",
       "    }\n",
       "\n",
       "    .dataframe tbody tr th {\n",
       "        vertical-align: top;\n",
       "    }\n",
       "\n",
       "    .dataframe thead th {\n",
       "        text-align: right;\n",
       "    }\n",
       "</style>\n",
       "<table border=\"1\" class=\"dataframe\">\n",
       "  <thead>\n",
       "    <tr style=\"text-align: right;\">\n",
       "      <th></th>\n",
       "      <th>Longitudex</th>\n",
       "      <th>Latitudey</th>\n",
       "      <th>StationName</th>\n",
       "      <th>ClimateID</th>\n",
       "      <th>Timestamp</th>\n",
       "      <th>Year</th>\n",
       "      <th>Month</th>\n",
       "      <th>Day</th>\n",
       "      <th>Time</th>\n",
       "      <th>TempC</th>\n",
       "      <th>...</th>\n",
       "      <th>WindSpdFlag</th>\n",
       "      <th>Visibilitykm</th>\n",
       "      <th>VisibilityFlag</th>\n",
       "      <th>StnPresskPa</th>\n",
       "      <th>StnPressFlag</th>\n",
       "      <th>Hmdx</th>\n",
       "      <th>HmdxFlag</th>\n",
       "      <th>WindChill</th>\n",
       "      <th>WindChillFlag</th>\n",
       "      <th>Weather</th>\n",
       "    </tr>\n",
       "  </thead>\n",
       "  <tbody>\n",
       "    <tr>\n",
       "      <th>22</th>\n",
       "      <td>-123.18</td>\n",
       "      <td>49.19</td>\n",
       "      <td>VANCOUVER INTL A</td>\n",
       "      <td>1108395</td>\n",
       "      <td>2017-02-01 22:00:00</td>\n",
       "      <td>2017</td>\n",
       "      <td>2</td>\n",
       "      <td>1</td>\n",
       "      <td>22:00</td>\n",
       "      <td>NaN</td>\n",
       "      <td>...</td>\n",
       "      <td>NaN</td>\n",
       "      <td>NaN</td>\n",
       "      <td>NaN</td>\n",
       "      <td>NaN</td>\n",
       "      <td>NaN</td>\n",
       "      <td>NaN</td>\n",
       "      <td>NaN</td>\n",
       "      <td>NaN</td>\n",
       "      <td>NaN</td>\n",
       "      <td>Mainly Clear</td>\n",
       "    </tr>\n",
       "    <tr>\n",
       "      <th>177</th>\n",
       "      <td>-123.18</td>\n",
       "      <td>49.19</td>\n",
       "      <td>VANCOUVER INTL A</td>\n",
       "      <td>1108395</td>\n",
       "      <td>2017-11-08 09:00:00</td>\n",
       "      <td>2017</td>\n",
       "      <td>11</td>\n",
       "      <td>8</td>\n",
       "      <td>09:00</td>\n",
       "      <td>NaN</td>\n",
       "      <td>...</td>\n",
       "      <td>NaN</td>\n",
       "      <td>NaN</td>\n",
       "      <td>NaN</td>\n",
       "      <td>NaN</td>\n",
       "      <td>NaN</td>\n",
       "      <td>NaN</td>\n",
       "      <td>NaN</td>\n",
       "      <td>NaN</td>\n",
       "      <td>NaN</td>\n",
       "      <td>Cloudy</td>\n",
       "    </tr>\n",
       "    <tr>\n",
       "      <th>140</th>\n",
       "      <td>-123.18</td>\n",
       "      <td>49.19</td>\n",
       "      <td>VANCOUVER INTL A</td>\n",
       "      <td>1108395</td>\n",
       "      <td>2018-07-06 20:00:00</td>\n",
       "      <td>2018</td>\n",
       "      <td>7</td>\n",
       "      <td>6</td>\n",
       "      <td>20:00</td>\n",
       "      <td>NaN</td>\n",
       "      <td>...</td>\n",
       "      <td>NaN</td>\n",
       "      <td>NaN</td>\n",
       "      <td>NaN</td>\n",
       "      <td>NaN</td>\n",
       "      <td>NaN</td>\n",
       "      <td>NaN</td>\n",
       "      <td>NaN</td>\n",
       "      <td>NaN</td>\n",
       "      <td>NaN</td>\n",
       "      <td>Mostly Cloudy</td>\n",
       "    </tr>\n",
       "    <tr>\n",
       "      <th>141</th>\n",
       "      <td>-123.18</td>\n",
       "      <td>49.19</td>\n",
       "      <td>VANCOUVER INTL A</td>\n",
       "      <td>1108395</td>\n",
       "      <td>2018-07-06 21:00:00</td>\n",
       "      <td>2018</td>\n",
       "      <td>7</td>\n",
       "      <td>6</td>\n",
       "      <td>21:00</td>\n",
       "      <td>NaN</td>\n",
       "      <td>...</td>\n",
       "      <td>NaN</td>\n",
       "      <td>NaN</td>\n",
       "      <td>NaN</td>\n",
       "      <td>NaN</td>\n",
       "      <td>NaN</td>\n",
       "      <td>NaN</td>\n",
       "      <td>NaN</td>\n",
       "      <td>NaN</td>\n",
       "      <td>NaN</td>\n",
       "      <td>Mostly Cloudy</td>\n",
       "    </tr>\n",
       "    <tr>\n",
       "      <th>142</th>\n",
       "      <td>-123.18</td>\n",
       "      <td>49.19</td>\n",
       "      <td>VANCOUVER INTL A</td>\n",
       "      <td>1108395</td>\n",
       "      <td>2018-07-06 22:00:00</td>\n",
       "      <td>2018</td>\n",
       "      <td>7</td>\n",
       "      <td>6</td>\n",
       "      <td>22:00</td>\n",
       "      <td>NaN</td>\n",
       "      <td>...</td>\n",
       "      <td>NaN</td>\n",
       "      <td>NaN</td>\n",
       "      <td>NaN</td>\n",
       "      <td>NaN</td>\n",
       "      <td>NaN</td>\n",
       "      <td>NaN</td>\n",
       "      <td>NaN</td>\n",
       "      <td>NaN</td>\n",
       "      <td>NaN</td>\n",
       "      <td>Mostly Cloudy</td>\n",
       "    </tr>\n",
       "    <tr>\n",
       "      <th>407</th>\n",
       "      <td>-123.18</td>\n",
       "      <td>49.19</td>\n",
       "      <td>VANCOUVER INTL A</td>\n",
       "      <td>1108395</td>\n",
       "      <td>2018-08-17 23:00:00</td>\n",
       "      <td>2018</td>\n",
       "      <td>8</td>\n",
       "      <td>17</td>\n",
       "      <td>23:00</td>\n",
       "      <td>NaN</td>\n",
       "      <td>...</td>\n",
       "      <td>NaN</td>\n",
       "      <td>NaN</td>\n",
       "      <td>NaN</td>\n",
       "      <td>NaN</td>\n",
       "      <td>NaN</td>\n",
       "      <td>NaN</td>\n",
       "      <td>NaN</td>\n",
       "      <td>NaN</td>\n",
       "      <td>NaN</td>\n",
       "      <td>Mainly Clear</td>\n",
       "    </tr>\n",
       "  </tbody>\n",
       "</table>\n",
       "<p>6 rows × 28 columns</p>\n",
       "</div>"
      ],
      "text/plain": [
       "     Longitudex  Latitudey       StationName  ClimateID           Timestamp  \\\n",
       "22      -123.18      49.19  VANCOUVER INTL A    1108395 2017-02-01 22:00:00   \n",
       "177     -123.18      49.19  VANCOUVER INTL A    1108395 2017-11-08 09:00:00   \n",
       "140     -123.18      49.19  VANCOUVER INTL A    1108395 2018-07-06 20:00:00   \n",
       "141     -123.18      49.19  VANCOUVER INTL A    1108395 2018-07-06 21:00:00   \n",
       "142     -123.18      49.19  VANCOUVER INTL A    1108395 2018-07-06 22:00:00   \n",
       "407     -123.18      49.19  VANCOUVER INTL A    1108395 2018-08-17 23:00:00   \n",
       "\n",
       "     Year  Month  Day   Time  TempC  ...  WindSpdFlag  Visibilitykm  \\\n",
       "22   2017      2    1  22:00    NaN  ...          NaN           NaN   \n",
       "177  2017     11    8  09:00    NaN  ...          NaN           NaN   \n",
       "140  2018      7    6  20:00    NaN  ...          NaN           NaN   \n",
       "141  2018      7    6  21:00    NaN  ...          NaN           NaN   \n",
       "142  2018      7    6  22:00    NaN  ...          NaN           NaN   \n",
       "407  2018      8   17  23:00    NaN  ...          NaN           NaN   \n",
       "\n",
       "     VisibilityFlag  StnPresskPa  StnPressFlag  Hmdx  HmdxFlag  WindChill  \\\n",
       "22              NaN          NaN           NaN   NaN       NaN        NaN   \n",
       "177             NaN          NaN           NaN   NaN       NaN        NaN   \n",
       "140             NaN          NaN           NaN   NaN       NaN        NaN   \n",
       "141             NaN          NaN           NaN   NaN       NaN        NaN   \n",
       "142             NaN          NaN           NaN   NaN       NaN        NaN   \n",
       "407             NaN          NaN           NaN   NaN       NaN        NaN   \n",
       "\n",
       "     WindChillFlag        Weather  \n",
       "22             NaN   Mainly Clear  \n",
       "177            NaN         Cloudy  \n",
       "140            NaN  Mostly Cloudy  \n",
       "141            NaN  Mostly Cloudy  \n",
       "142            NaN  Mostly Cloudy  \n",
       "407            NaN   Mainly Clear  \n",
       "\n",
       "[6 rows x 28 columns]"
      ]
     },
     "execution_count": 75,
     "metadata": {},
     "output_type": "execute_result"
    }
   ],
   "source": [
    "#Filling our remaining gaps. Not too many of them, thankfully.\n",
    "weather_data_raw[weather_data_raw['TempC'].isna()]"
   ]
  },
  {
   "cell_type": "code",
   "execution_count": 76,
   "metadata": {},
   "outputs": [
    {
     "data": {
      "text/html": [
       "<div>\n",
       "<style scoped>\n",
       "    .dataframe tbody tr th:only-of-type {\n",
       "        vertical-align: middle;\n",
       "    }\n",
       "\n",
       "    .dataframe tbody tr th {\n",
       "        vertical-align: top;\n",
       "    }\n",
       "\n",
       "    .dataframe thead th {\n",
       "        text-align: right;\n",
       "    }\n",
       "</style>\n",
       "<table border=\"1\" class=\"dataframe\">\n",
       "  <thead>\n",
       "    <tr style=\"text-align: right;\">\n",
       "      <th></th>\n",
       "      <th>Longitudex</th>\n",
       "      <th>Latitudey</th>\n",
       "      <th>StationName</th>\n",
       "      <th>ClimateID</th>\n",
       "      <th>Timestamp</th>\n",
       "      <th>Year</th>\n",
       "      <th>Month</th>\n",
       "      <th>Day</th>\n",
       "      <th>Time</th>\n",
       "      <th>TempC</th>\n",
       "      <th>...</th>\n",
       "      <th>WindSpdFlag</th>\n",
       "      <th>Visibilitykm</th>\n",
       "      <th>VisibilityFlag</th>\n",
       "      <th>StnPresskPa</th>\n",
       "      <th>StnPressFlag</th>\n",
       "      <th>Hmdx</th>\n",
       "      <th>HmdxFlag</th>\n",
       "      <th>WindChill</th>\n",
       "      <th>WindChillFlag</th>\n",
       "      <th>Weather</th>\n",
       "    </tr>\n",
       "  </thead>\n",
       "  <tbody>\n",
       "  </tbody>\n",
       "</table>\n",
       "<p>0 rows × 28 columns</p>\n",
       "</div>"
      ],
      "text/plain": [
       "Empty DataFrame\n",
       "Columns: [Longitudex, Latitudey, StationName, ClimateID, Timestamp, Year, Month, Day, Time, TempC, TempFlag, DewPointTempC, DewPointTempFlag, RelHum, RelHumFlag, WindDir10sdeg, WindDirFlag, WindSpdkmh, WindSpdFlag, Visibilitykm, VisibilityFlag, StnPresskPa, StnPressFlag, Hmdx, HmdxFlag, WindChill, WindChillFlag, Weather]\n",
       "Index: []\n",
       "\n",
       "[0 rows x 28 columns]"
      ]
     },
     "execution_count": 76,
     "metadata": {},
     "output_type": "execute_result"
    }
   ],
   "source": [
    "# All of our remaining nulls are handled by fixing only 6 rows.  \n",
    "# Opting for simple forward-fill here.  \n",
    "weather_data_raw[['TempC','RelHum','WindSpdkmh']]=\\\n",
    "    weather_data_raw[['TempC','RelHum','WindSpdkmh']]\\\n",
    "                    .fillna(method='ffill')\n",
    "weather_data_raw[weather_data_raw['TempC'].isna()]"
   ]
  },
  {
   "cell_type": "markdown",
   "metadata": {},
   "source": [
    "## Sunrise/sunset\n",
    "Our bounding hours are civil twilight.  If nothing else, this project has taught me that there are 3 types of twilight. Seems like overkill to me, but scientists gonna science."
   ]
  },
  {
   "cell_type": "code",
   "execution_count": 38,
   "metadata": {},
   "outputs": [
    {
     "data": {
      "text/html": [
       "<div>\n",
       "<style scoped>\n",
       "    .dataframe tbody tr th:only-of-type {\n",
       "        vertical-align: middle;\n",
       "    }\n",
       "\n",
       "    .dataframe tbody tr th {\n",
       "        vertical-align: top;\n",
       "    }\n",
       "\n",
       "    .dataframe thead th {\n",
       "        text-align: right;\n",
       "    }\n",
       "</style>\n",
       "<table border=\"1\" class=\"dataframe\">\n",
       "  <thead>\n",
       "    <tr style=\"text-align: right;\">\n",
       "      <th></th>\n",
       "      <th>daylight_start</th>\n",
       "      <th>daylight_end</th>\n",
       "    </tr>\n",
       "  </thead>\n",
       "  <tbody>\n",
       "    <tr>\n",
       "      <th>0</th>\n",
       "      <td>2017-01-01 07:30:00</td>\n",
       "      <td>2017-01-01 17:02:00</td>\n",
       "    </tr>\n",
       "    <tr>\n",
       "      <th>1</th>\n",
       "      <td>2017-01-02 07:30:00</td>\n",
       "      <td>2017-01-02 17:03:00</td>\n",
       "    </tr>\n",
       "    <tr>\n",
       "      <th>2</th>\n",
       "      <td>2017-01-03 07:30:00</td>\n",
       "      <td>2017-01-03 17:04:00</td>\n",
       "    </tr>\n",
       "    <tr>\n",
       "      <th>3</th>\n",
       "      <td>2017-01-04 07:30:00</td>\n",
       "      <td>2017-01-04 17:05:00</td>\n",
       "    </tr>\n",
       "    <tr>\n",
       "      <th>4</th>\n",
       "      <td>2017-01-05 07:30:00</td>\n",
       "      <td>2017-01-05 17:06:00</td>\n",
       "    </tr>\n",
       "  </tbody>\n",
       "</table>\n",
       "</div>"
      ],
      "text/plain": [
       "       daylight_start        daylight_end\n",
       "0 2017-01-01 07:30:00 2017-01-01 17:02:00\n",
       "1 2017-01-02 07:30:00 2017-01-02 17:03:00\n",
       "2 2017-01-03 07:30:00 2017-01-03 17:04:00\n",
       "3 2017-01-04 07:30:00 2017-01-04 17:05:00\n",
       "4 2017-01-05 07:30:00 2017-01-05 17:06:00"
      ]
     },
     "execution_count": 38,
     "metadata": {},
     "output_type": "execute_result"
    }
   ],
   "source": [
    "# This is kind of ugly.\n",
    "# I could have used a list comprehension, my Favoritest Python Thing Ever.\n",
    "# But that would have been even uglier.\n",
    "# Stand ye in awe of my restraint.\n",
    "\n",
    "daytime_lookup_df=pd.DataFrame([],\n",
    "                               columns=['daylight_start',\n",
    "                                         'daylight_end'])\n",
    "for yr in [2017,2018,2019,2020]:\n",
    "    twi_strt=pd.to_datetime(sun_data_raw['Date'] + f' {yr} ' + sun_data_raw['Civil'])\n",
    "    twi_end=pd.to_datetime(sun_data_raw['Date'] + f' {yr} ' + sun_data_raw['Civil Nautical']\\\n",
    "                                                                           .str.split(expand=True)[0])\n",
    "    daytime_lookup_df = pd.concat([daytime_lookup_df,\n",
    "                                   pd.DataFrame(data={'daylight_start':twi_strt,\n",
    "                                                      'daylight_end': twi_end},\n",
    "                                                )],\n",
    "                                  ignore_index=True,\n",
    "                                  axis=0\n",
    "                                 )\n",
    "\n",
    "daytime_lookup_df.head()  "
   ]
  },
  {
   "cell_type": "markdown",
   "metadata": {},
   "source": [
    "## Assembling dataset"
   ]
  },
  {
   "cell_type": "code",
   "execution_count": 77,
   "metadata": {},
   "outputs": [],
   "source": [
    "#Define target dataframe\n",
    "#Weather columns added later\n",
    "station_summary_df = pd.DataFrame(columns=['Timestamp', #Drop after encoding\n",
    "                                     'is_weekend',\n",
    "                                     'is_holiday',\n",
    "                                     'station_id',\n",
    "                                     'is_daylight',\n",
    "                                     'num_returns',\n",
    "                                     'num_departures'])"
   ]
  },
  {
   "cell_type": "code",
   "execution_count": 78,
   "metadata": {},
   "outputs": [],
   "source": [
    "# The notion of interpreting the demand at a given station as number of\n",
    "# returns + number of departures means that we have summarize the dataframe \n",
    "# twice: to count returns and to count departures, so we move from:\n",
    "# return | departure | return_station | departure_station\n",
    "# (one row per trip, separate return/departure timestamps and stations)\n",
    "# to:\n",
    "# timestamp | station_id | num_returns | num_departures\n",
    "#(one row per timestamp(hour) + station, count of departures and returns)\n",
    "# There might be a more pythonic/pandastic/whatever way to do this, \n",
    "# but so help me, the only thing that springs to mind is merging two \n",
    "# group-bys, so guess what we're going to do?\n",
    "\n",
    "departure_df = trip_data_raw.groupby(['departure','departure_station'])\\\n",
    "                            .size()\\\n",
    "                            .reset_index()\\\n",
    "                            .rename(columns={'departure' : 'Timestamp',\n",
    "                                             'departure_station' : 'station_id',\n",
    "                                              0 : 'num_departures'})\n",
    "\n",
    "return_df = trip_data_raw.groupby(['return','return_station'])\\\n",
    "                         .size()\\\n",
    "                         .reset_index()\\\n",
    "                         .rename(columns={'return' : 'Timestamp',\n",
    "                                          'return_station' : 'station_id',\n",
    "                                           0 : 'num_returns'})\n",
    "\n",
    "station_summary_df[['Timestamp','station_id','num_returns','num_departures']] =\\\n",
    "  pd.merge(departure_df,\n",
    "           return_df,\n",
    "           on=['Timestamp','station_id'],\n",
    "           how='outer')\\\n",
    "    .fillna(0)\\\n",
    "    .astype({'num_returns' : 'int32','num_departures':'int32'})\\\n",
    "    .sort_values('Timestamp')"
   ]
  },
  {
   "cell_type": "code",
   "execution_count": 79,
   "metadata": {},
   "outputs": [
    {
     "data": {
      "text/plain": [
       "count                 1066955\n",
       "unique                  26923\n",
       "top       2019-08-12 17:00:00\n",
       "freq                      160\n",
       "first     2017-01-01 00:00:00\n",
       "last      2020-03-01 00:00:00\n",
       "Name: Timestamp, dtype: object"
      ]
     },
     "metadata": {},
     "output_type": "display_data"
    },
    {
     "data": {
      "text/plain": [
       "count                 1074732\n",
       "unique                  26927\n",
       "top       2019-08-19 18:00:00\n",
       "freq                      149\n",
       "first     2017-01-01 01:00:00\n",
       "last      2020-03-02 09:00:00\n",
       "Name: Timestamp, dtype: object"
      ]
     },
     "metadata": {},
     "output_type": "display_data"
    },
    {
     "data": {
      "text/plain": [
       "count                 1574914\n",
       "unique                  27088\n",
       "top       2019-09-03 18:00:00\n",
       "freq                      180\n",
       "first     2017-01-01 00:00:00\n",
       "last      2020-03-02 09:00:00\n",
       "Name: Timestamp, dtype: object"
      ]
     },
     "metadata": {},
     "output_type": "display_data"
    }
   ],
   "source": [
    "display(departure_df['Timestamp'].describe())\n",
    "display(return_df['Timestamp'].describe())\n",
    "display(station_summary_df['Timestamp'].describe())"
   ]
  },
  {
   "cell_type": "code",
   "execution_count": 169,
   "metadata": {},
   "outputs": [
    {
     "name": "stdout",
     "output_type": "stream",
     "text": [
      "\n",
      "Station trip summary:\n"
     ]
    },
    {
     "data": {
      "text/html": [
       "<div>\n",
       "<style scoped>\n",
       "    .dataframe tbody tr th:only-of-type {\n",
       "        vertical-align: middle;\n",
       "    }\n",
       "\n",
       "    .dataframe tbody tr th {\n",
       "        vertical-align: top;\n",
       "    }\n",
       "\n",
       "    .dataframe thead th {\n",
       "        text-align: right;\n",
       "    }\n",
       "</style>\n",
       "<table border=\"1\" class=\"dataframe\">\n",
       "  <thead>\n",
       "    <tr style=\"text-align: right;\">\n",
       "      <th></th>\n",
       "      <th>rows</th>\n",
       "      <th>cols</th>\n",
       "    </tr>\n",
       "  </thead>\n",
       "  <tbody>\n",
       "    <tr>\n",
       "      <th>count</th>\n",
       "      <td>1574887</td>\n",
       "      <td>13</td>\n",
       "    </tr>\n",
       "  </tbody>\n",
       "</table>\n",
       "</div>"
      ],
      "text/plain": [
       "          rows  cols\n",
       "count  1574887    13"
      ]
     },
     "metadata": {},
     "output_type": "display_data"
    }
   ],
   "source": [
    "pretty_shape(station_summary_df,\"Station trip summary\")"
   ]
  },
  {
   "cell_type": "code",
   "execution_count": 81,
   "metadata": {},
   "outputs": [
    {
     "data": {
      "text/plain": [
       "(1574887, 11)"
      ]
     },
     "execution_count": 81,
     "metadata": {},
     "output_type": "execute_result"
    }
   ],
   "source": [
    "station_summary_df =\\\n",
    "  pd.merge(station_summary_df,\n",
    "           weather_data_raw[['Timestamp','TempC','RelHum','WindSpdkmh','Weather']],\n",
    "           on=['Timestamp'],\n",
    "           how='inner')\n",
    "pretty_shape(station_summary_df,\"Station trip summary\")"
   ]
  },
  {
   "cell_type": "code",
   "execution_count": 82,
   "metadata": {},
   "outputs": [
    {
     "data": {
      "text/plain": [
       "count                 1574887\n",
       "unique                  27080\n",
       "top       2019-09-03 18:00:00\n",
       "freq                      180\n",
       "first     2017-01-01 00:00:00\n",
       "last      2020-02-29 23:00:00\n",
       "Name: Timestamp, dtype: object"
      ]
     },
     "metadata": {},
     "output_type": "display_data"
    }
   ],
   "source": [
    "# We lost a few records there, but it's the handful from March 2020:\n",
    "display(station_summary_df['Timestamp'].describe())"
   ]
  },
  {
   "cell_type": "code",
   "execution_count": 83,
   "metadata": {},
   "outputs": [],
   "source": [
    "# Update whether the hour is in the daylight range for the day.\n",
    "# Gluing the columns on to do the calculation is crude, but my attempts to\n",
    "# iterate over the daylight lookup dataframe (via loops, lambdas, etc)\n",
    "# performed abysmally.\n",
    "# On the plus side, merge_asof() has to be one of the coolest pandas \n",
    "# things ever.\n",
    "station_summary_df.sort_values('Timestamp',inplace=True)\n",
    "station_summary_df=pd.merge_asof(station_summary_df, daytime_lookup_df,\n",
    "                                 left_on=['Timestamp'],\n",
    "                                 right_on=['daylight_start'],\n",
    "                                 direction='nearest'\n",
    "                                 )\n"
   ]
  },
  {
   "cell_type": "code",
   "execution_count": 84,
   "metadata": {},
   "outputs": [],
   "source": [
    "station_summary_df['is_daylight'] =\\\n",
    "  station_summary_df['Timestamp'].between(station_summary_df.daylight_start,\n",
    "                                          station_summary_df.daylight_end)\\\n",
    "                                 .astype('int')"
   ]
  },
  {
   "cell_type": "code",
   "execution_count": 85,
   "metadata": {},
   "outputs": [],
   "source": [
    "# Populate is_weekend flag\n",
    "station_summary_df['is_weekend'] = (station_summary_df['Timestamp'].dt.dayofweek > 4).astype('int')"
   ]
  },
  {
   "cell_type": "code",
   "execution_count": 86,
   "metadata": {},
   "outputs": [
    {
     "data": {
      "text/html": [
       "<div>\n",
       "<style scoped>\n",
       "    .dataframe tbody tr th:only-of-type {\n",
       "        vertical-align: middle;\n",
       "    }\n",
       "\n",
       "    .dataframe tbody tr th {\n",
       "        vertical-align: top;\n",
       "    }\n",
       "\n",
       "    .dataframe thead th {\n",
       "        text-align: right;\n",
       "    }\n",
       "</style>\n",
       "<table border=\"1\" class=\"dataframe\">\n",
       "  <thead>\n",
       "    <tr style=\"text-align: right;\">\n",
       "      <th></th>\n",
       "      <th>Timestamp</th>\n",
       "      <th>is_weekend</th>\n",
       "      <th>is_holiday</th>\n",
       "      <th>station_id</th>\n",
       "      <th>is_daylight</th>\n",
       "      <th>num_returns</th>\n",
       "      <th>num_departures</th>\n",
       "      <th>TempC</th>\n",
       "      <th>RelHum</th>\n",
       "      <th>WindSpdkmh</th>\n",
       "      <th>Weather</th>\n",
       "      <th>daylight_start</th>\n",
       "      <th>daylight_end</th>\n",
       "    </tr>\n",
       "  </thead>\n",
       "  <tbody>\n",
       "    <tr>\n",
       "      <th>0</th>\n",
       "      <td>2017-01-01 00:00:00</td>\n",
       "      <td>1</td>\n",
       "      <td>NaN</td>\n",
       "      <td>0069</td>\n",
       "      <td>0</td>\n",
       "      <td>1</td>\n",
       "      <td>0</td>\n",
       "      <td>1.2</td>\n",
       "      <td>89.0</td>\n",
       "      <td>8.0</td>\n",
       "      <td>Cloudy</td>\n",
       "      <td>2017-01-01 07:30:00</td>\n",
       "      <td>2017-01-01 17:02:00</td>\n",
       "    </tr>\n",
       "    <tr>\n",
       "      <th>1</th>\n",
       "      <td>2017-01-01 01:00:00</td>\n",
       "      <td>1</td>\n",
       "      <td>NaN</td>\n",
       "      <td>0064</td>\n",
       "      <td>0</td>\n",
       "      <td>1</td>\n",
       "      <td>0</td>\n",
       "      <td>0.9</td>\n",
       "      <td>89.0</td>\n",
       "      <td>2.0</td>\n",
       "      <td>Cloudy</td>\n",
       "      <td>2017-01-01 07:30:00</td>\n",
       "      <td>2017-01-01 17:02:00</td>\n",
       "    </tr>\n",
       "    <tr>\n",
       "      <th>2</th>\n",
       "      <td>2017-01-01 01:00:00</td>\n",
       "      <td>1</td>\n",
       "      <td>NaN</td>\n",
       "      <td>0148</td>\n",
       "      <td>0</td>\n",
       "      <td>1</td>\n",
       "      <td>0</td>\n",
       "      <td>0.9</td>\n",
       "      <td>89.0</td>\n",
       "      <td>2.0</td>\n",
       "      <td>Cloudy</td>\n",
       "      <td>2017-01-01 07:30:00</td>\n",
       "      <td>2017-01-01 17:02:00</td>\n",
       "    </tr>\n",
       "    <tr>\n",
       "      <th>3</th>\n",
       "      <td>2017-01-01 01:00:00</td>\n",
       "      <td>1</td>\n",
       "      <td>NaN</td>\n",
       "      <td>0030</td>\n",
       "      <td>0</td>\n",
       "      <td>0</td>\n",
       "      <td>1</td>\n",
       "      <td>0.9</td>\n",
       "      <td>89.0</td>\n",
       "      <td>2.0</td>\n",
       "      <td>Cloudy</td>\n",
       "      <td>2017-01-01 07:30:00</td>\n",
       "      <td>2017-01-01 17:02:00</td>\n",
       "    </tr>\n",
       "    <tr>\n",
       "      <th>4</th>\n",
       "      <td>2017-01-01 01:00:00</td>\n",
       "      <td>1</td>\n",
       "      <td>NaN</td>\n",
       "      <td>0067</td>\n",
       "      <td>0</td>\n",
       "      <td>0</td>\n",
       "      <td>1</td>\n",
       "      <td>0.9</td>\n",
       "      <td>89.0</td>\n",
       "      <td>2.0</td>\n",
       "      <td>Cloudy</td>\n",
       "      <td>2017-01-01 07:30:00</td>\n",
       "      <td>2017-01-01 17:02:00</td>\n",
       "    </tr>\n",
       "    <tr>\n",
       "      <th>...</th>\n",
       "      <td>...</td>\n",
       "      <td>...</td>\n",
       "      <td>...</td>\n",
       "      <td>...</td>\n",
       "      <td>...</td>\n",
       "      <td>...</td>\n",
       "      <td>...</td>\n",
       "      <td>...</td>\n",
       "      <td>...</td>\n",
       "      <td>...</td>\n",
       "      <td>...</td>\n",
       "      <td>...</td>\n",
       "      <td>...</td>\n",
       "    </tr>\n",
       "    <tr>\n",
       "      <th>1574882</th>\n",
       "      <td>2020-02-29 23:00:00</td>\n",
       "      <td>1</td>\n",
       "      <td>NaN</td>\n",
       "      <td>0215</td>\n",
       "      <td>0</td>\n",
       "      <td>2</td>\n",
       "      <td>0</td>\n",
       "      <td>2.8</td>\n",
       "      <td>89.0</td>\n",
       "      <td>10.0</td>\n",
       "      <td>Clear</td>\n",
       "      <td>2020-03-01 06:23:00</td>\n",
       "      <td>2020-03-01 18:27:00</td>\n",
       "    </tr>\n",
       "    <tr>\n",
       "      <th>1574883</th>\n",
       "      <td>2020-02-29 23:00:00</td>\n",
       "      <td>1</td>\n",
       "      <td>NaN</td>\n",
       "      <td>0212</td>\n",
       "      <td>0</td>\n",
       "      <td>1</td>\n",
       "      <td>0</td>\n",
       "      <td>2.8</td>\n",
       "      <td>89.0</td>\n",
       "      <td>10.0</td>\n",
       "      <td>Clear</td>\n",
       "      <td>2020-03-01 06:23:00</td>\n",
       "      <td>2020-03-01 18:27:00</td>\n",
       "    </tr>\n",
       "    <tr>\n",
       "      <th>1574884</th>\n",
       "      <td>2020-02-29 23:00:00</td>\n",
       "      <td>1</td>\n",
       "      <td>NaN</td>\n",
       "      <td>0196</td>\n",
       "      <td>0</td>\n",
       "      <td>2</td>\n",
       "      <td>0</td>\n",
       "      <td>2.8</td>\n",
       "      <td>89.0</td>\n",
       "      <td>10.0</td>\n",
       "      <td>Clear</td>\n",
       "      <td>2020-03-01 06:23:00</td>\n",
       "      <td>2020-03-01 18:27:00</td>\n",
       "    </tr>\n",
       "    <tr>\n",
       "      <th>1574885</th>\n",
       "      <td>2020-02-29 23:00:00</td>\n",
       "      <td>1</td>\n",
       "      <td>NaN</td>\n",
       "      <td>0019</td>\n",
       "      <td>0</td>\n",
       "      <td>0</td>\n",
       "      <td>1</td>\n",
       "      <td>2.8</td>\n",
       "      <td>89.0</td>\n",
       "      <td>10.0</td>\n",
       "      <td>Clear</td>\n",
       "      <td>2020-03-01 06:23:00</td>\n",
       "      <td>2020-03-01 18:27:00</td>\n",
       "    </tr>\n",
       "    <tr>\n",
       "      <th>1574886</th>\n",
       "      <td>2020-02-29 23:00:00</td>\n",
       "      <td>1</td>\n",
       "      <td>NaN</td>\n",
       "      <td>0108</td>\n",
       "      <td>0</td>\n",
       "      <td>0</td>\n",
       "      <td>1</td>\n",
       "      <td>2.8</td>\n",
       "      <td>89.0</td>\n",
       "      <td>10.0</td>\n",
       "      <td>Clear</td>\n",
       "      <td>2020-03-01 06:23:00</td>\n",
       "      <td>2020-03-01 18:27:00</td>\n",
       "    </tr>\n",
       "  </tbody>\n",
       "</table>\n",
       "<p>1574887 rows × 13 columns</p>\n",
       "</div>"
      ],
      "text/plain": [
       "                  Timestamp  is_weekend is_holiday station_id  is_daylight  \\\n",
       "0       2017-01-01 00:00:00           1        NaN       0069            0   \n",
       "1       2017-01-01 01:00:00           1        NaN       0064            0   \n",
       "2       2017-01-01 01:00:00           1        NaN       0148            0   \n",
       "3       2017-01-01 01:00:00           1        NaN       0030            0   \n",
       "4       2017-01-01 01:00:00           1        NaN       0067            0   \n",
       "...                     ...         ...        ...        ...          ...   \n",
       "1574882 2020-02-29 23:00:00           1        NaN       0215            0   \n",
       "1574883 2020-02-29 23:00:00           1        NaN       0212            0   \n",
       "1574884 2020-02-29 23:00:00           1        NaN       0196            0   \n",
       "1574885 2020-02-29 23:00:00           1        NaN       0019            0   \n",
       "1574886 2020-02-29 23:00:00           1        NaN       0108            0   \n",
       "\n",
       "         num_returns  num_departures  TempC  RelHum  WindSpdkmh Weather  \\\n",
       "0                  1               0    1.2    89.0         8.0  Cloudy   \n",
       "1                  1               0    0.9    89.0         2.0  Cloudy   \n",
       "2                  1               0    0.9    89.0         2.0  Cloudy   \n",
       "3                  0               1    0.9    89.0         2.0  Cloudy   \n",
       "4                  0               1    0.9    89.0         2.0  Cloudy   \n",
       "...              ...             ...    ...     ...         ...     ...   \n",
       "1574882            2               0    2.8    89.0        10.0   Clear   \n",
       "1574883            1               0    2.8    89.0        10.0   Clear   \n",
       "1574884            2               0    2.8    89.0        10.0   Clear   \n",
       "1574885            0               1    2.8    89.0        10.0   Clear   \n",
       "1574886            0               1    2.8    89.0        10.0   Clear   \n",
       "\n",
       "             daylight_start        daylight_end  \n",
       "0       2017-01-01 07:30:00 2017-01-01 17:02:00  \n",
       "1       2017-01-01 07:30:00 2017-01-01 17:02:00  \n",
       "2       2017-01-01 07:30:00 2017-01-01 17:02:00  \n",
       "3       2017-01-01 07:30:00 2017-01-01 17:02:00  \n",
       "4       2017-01-01 07:30:00 2017-01-01 17:02:00  \n",
       "...                     ...                 ...  \n",
       "1574882 2020-03-01 06:23:00 2020-03-01 18:27:00  \n",
       "1574883 2020-03-01 06:23:00 2020-03-01 18:27:00  \n",
       "1574884 2020-03-01 06:23:00 2020-03-01 18:27:00  \n",
       "1574885 2020-03-01 06:23:00 2020-03-01 18:27:00  \n",
       "1574886 2020-03-01 06:23:00 2020-03-01 18:27:00  \n",
       "\n",
       "[1574887 rows x 13 columns]"
      ]
     },
     "execution_count": 86,
     "metadata": {},
     "output_type": "execute_result"
    }
   ],
   "source": [
    "station_summary_df"
   ]
  },
  {
   "cell_type": "markdown",
   "metadata": {},
   "source": [
    "Create calendar for identifying holidays"
   ]
  },
  {
   "cell_type": "code",
   "execution_count": 87,
   "metadata": {},
   "outputs": [],
   "source": [
    "# Rules derived from https://en.wikipedia.org/wiki/Public_holidays_in_Canada#British_Columbia\n",
    "# ...and stolen from US holiday definitions where matching.\n",
    "\n",
    "class BCStatHols(hol.AbstractHolidayCalendar):\n",
    "    rules = [\n",
    "        hol.Holiday(\"New Years Day\", month=1, day=1, observance=hol.nearest_workday),\n",
    "        hol.Holiday(\"Family Day\", end_date=datetime(2017,12,31),month=2, day=1,offset=hol.DateOffset(weekday=hol.MO(2))),\n",
    "        hol.Holiday(\"Family Day\", start_date=datetime(2018,1,1),month=2, day=1,offset=hol.DateOffset(weekday=hol.MO(3))),\n",
    "        hol.GoodFriday,\n",
    "        hol.Holiday(\"Victoria Day\", month=5, day=24,offset=hol.DateOffset(weekday=hol.MO(-1))), #DateOffSet inclusive, hence \"first Mon before 5/25\" represented as \"before 5/24 here\"\n",
    "        hol.Holiday(\"Canada Day\", month=7, day=1, observance=hol.nearest_workday),\n",
    "        hol.Holiday(\"BC Day\", month=8, day=1, offset=hol.DateOffset(weekday=hol.MO(1))),\n",
    "        hol.USLaborDay,\n",
    "        hol.Holiday(\"Thanksgiving Day\", month=10, day=1, offset=hol.DateOffset(weekday=hol.MO(2))),\n",
    "        hol.Holiday(\"Remembrance Day\",month=11, day=11, observance=hol.nearest_workday),\n",
    "        hol.Holiday(\"Christmas\", month=12, day=25, observance=hol.nearest_workday),\n",
    "    ]\n",
    "    "
   ]
  },
  {
   "cell_type": "code",
   "execution_count": 88,
   "metadata": {
    "scrolled": true
   },
   "outputs": [
    {
     "data": {
      "text/plain": [
       "2017-01-02       New Years Day\n",
       "2017-02-13          Family Day\n",
       "2017-04-14         Good Friday\n",
       "2017-05-22        Victoria Day\n",
       "2017-06-30          Canada Day\n",
       "2017-08-07              BC Day\n",
       "2017-09-04           Labor Day\n",
       "2017-10-09    Thanksgiving Day\n",
       "2017-11-10     Remembrance Day\n",
       "2017-12-25           Christmas\n",
       "2018-01-01       New Years Day\n",
       "2018-02-19          Family Day\n",
       "2018-03-30         Good Friday\n",
       "2018-05-21        Victoria Day\n",
       "2018-07-02          Canada Day\n",
       "2018-08-06              BC Day\n",
       "2018-09-03           Labor Day\n",
       "2018-10-08    Thanksgiving Day\n",
       "2018-11-12     Remembrance Day\n",
       "2018-12-25           Christmas\n",
       "2019-01-01       New Years Day\n",
       "2019-02-18          Family Day\n",
       "2019-04-19         Good Friday\n",
       "2019-05-20        Victoria Day\n",
       "2019-07-01          Canada Day\n",
       "2019-08-05              BC Day\n",
       "2019-09-02           Labor Day\n",
       "2019-10-14    Thanksgiving Day\n",
       "2019-11-11     Remembrance Day\n",
       "2019-12-25           Christmas\n",
       "2020-01-01       New Years Day\n",
       "2020-02-17          Family Day\n",
       "2020-04-10         Good Friday\n",
       "2020-05-18        Victoria Day\n",
       "2020-07-01          Canada Day\n",
       "2020-08-03              BC Day\n",
       "2020-09-07           Labor Day\n",
       "2020-10-12    Thanksgiving Day\n",
       "2020-11-11     Remembrance Day\n",
       "2020-12-25           Christmas\n",
       "dtype: object"
      ]
     },
     "execution_count": 88,
     "metadata": {},
     "output_type": "execute_result"
    }
   ],
   "source": [
    "# Validating calendar\n",
    "my_cal=BCStatHols()\n",
    "my_cal.holidays(start='01-01-2017',end='12-31-2020',return_name=True)"
   ]
  },
  {
   "cell_type": "code",
   "execution_count": 89,
   "metadata": {},
   "outputs": [],
   "source": [
    "# Setting is_holiday flag\n",
    "station_summary_df['is_holiday'] =\\\n",
    "  station_summary_df['Timestamp'].dt.floor('d')\\\n",
    "                    .isin(my_cal.holidays())\\\n",
    "                    .astype(int)"
   ]
  },
  {
   "cell_type": "markdown",
   "metadata": {},
   "source": [
    "Assigning weather catgories.  This will be an ordinal value:\n",
    "\n",
    "0: Decent weather (clear, cloudy)  \n",
    "1: Inconvenient but bearable weather: Rain/drizzle/fog  \n",
    "2: \"Why am I biking in this?\" weather: Snow, ice, Heavy rain/storm."
   ]
  },
  {
   "cell_type": "code",
   "execution_count": 170,
   "metadata": {},
   "outputs": [
    {
     "name": "stdout",
     "output_type": "stream",
     "text": [
      "Phrase: Heavy Rain,Moderate Hail,Fog  Score: 2\n",
      "Phrase: Drizzle,Fog  Score: 1\n",
      "Phrase: wtf  Score: wtf\n",
      "Phrase: Rain Showers  Score: 2\n",
      "Phrase: Mostly Cloudy  Score: 0\n",
      "Phrase: Mainly Clear  Score: 0\n"
     ]
    }
   ],
   "source": [
    "#Time to do weather things\n",
    "mild_reg=re.compile('Clear|Cloudy|Haze',flags=re.IGNORECASE)\n",
    "meh_reg=re.compile('Rain|Fog|Drizzl|Smoke',flags=re.IGNORECASE)\n",
    "omg_reg=re.compile('Shower|Snow|Ice|Hail|Freez|Heavy|storm',flags=re.IGNORECASE)\n",
    "\n",
    "weather_rank_filters=[mild_reg, meh_reg, omg_reg]\n",
    "\n",
    "#Walk through the filters in reverse; we want the most severe match.\n",
    "def rank_weather(desc, filters):\n",
    "    for score, regex in reversed(list(enumerate(filters))):\n",
    "        if re.search(regex,desc):\n",
    "            return score\n",
    "    return desc #Need to keep old value so it shows in dataframe as needing correction\n",
    "\n",
    "# Test the regex filters; anything not caught should have a non-numeric value.\n",
    "test_phrases=['Heavy Rain,Moderate Hail,Fog', #Expect 2 (Heavy, Hail)\n",
    "              'Drizzle,Fog', #Expect 1\n",
    "              'wtf', #Expect wtf\n",
    "              'Rain Showers', #Expect 2 (Showers)\n",
    "              'Mostly Cloudy', #Expect 0\n",
    "              'Mainly Clear'] #Expect 0\n",
    "\n",
    "for desc in test_phrases:\n",
    "    print(f'Phrase: {desc}  Score: {rank_weather(desc,weather_rank_filters)}')\n",
    "        "
   ]
  },
  {
   "cell_type": "code",
   "execution_count": 91,
   "metadata": {},
   "outputs": [],
   "source": [
    "station_summary_df['Weather'] =\\\n",
    "    station_summary_df['Weather']\\\n",
    "                      .apply(lambda x: rank_weather(x,weather_rank_filters))\n",
    "station_summary_df['Weather'].value_counts()"
   ]
  },
  {
   "cell_type": "code",
   "execution_count": 92,
   "metadata": {},
   "outputs": [
    {
     "data": {
      "text/plain": [
       "Timestamp         0\n",
       "is_weekend        0\n",
       "is_holiday        0\n",
       "station_id        0\n",
       "is_daylight       0\n",
       "num_returns       0\n",
       "num_departures    0\n",
       "TempC             0\n",
       "RelHum            0\n",
       "WindSpdkmh        0\n",
       "Weather           0\n",
       "daylight_start    0\n",
       "daylight_end      0\n",
       "dtype: int64"
      ]
     },
     "execution_count": 92,
     "metadata": {},
     "output_type": "execute_result"
    }
   ],
   "source": [
    "#Double-check that all these merges didn't introduce nulls\n",
    "\n",
    "station_summary_df.isna().sum()"
   ]
  },
  {
   "cell_type": "code",
   "execution_count": 93,
   "metadata": {},
   "outputs": [],
   "source": [
    "#Now we explode the thing.\n",
    "\n",
    "model_data=station_summary_df.copy()"
   ]
  },
  {
   "cell_type": "code",
   "execution_count": 94,
   "metadata": {},
   "outputs": [
    {
     "data": {
      "text/html": [
       "<div>\n",
       "<style scoped>\n",
       "    .dataframe tbody tr th:only-of-type {\n",
       "        vertical-align: middle;\n",
       "    }\n",
       "\n",
       "    .dataframe tbody tr th {\n",
       "        vertical-align: top;\n",
       "    }\n",
       "\n",
       "    .dataframe thead th {\n",
       "        text-align: right;\n",
       "    }\n",
       "</style>\n",
       "<table border=\"1\" class=\"dataframe\">\n",
       "  <thead>\n",
       "    <tr style=\"text-align: right;\">\n",
       "      <th></th>\n",
       "      <th>0</th>\n",
       "      <th>1</th>\n",
       "      <th>2</th>\n",
       "      <th>3</th>\n",
       "      <th>4</th>\n",
       "    </tr>\n",
       "  </thead>\n",
       "  <tbody>\n",
       "    <tr>\n",
       "      <th>is_weekend</th>\n",
       "      <td>1</td>\n",
       "      <td>1</td>\n",
       "      <td>1</td>\n",
       "      <td>1</td>\n",
       "      <td>1</td>\n",
       "    </tr>\n",
       "    <tr>\n",
       "      <th>is_holiday</th>\n",
       "      <td>0</td>\n",
       "      <td>0</td>\n",
       "      <td>0</td>\n",
       "      <td>0</td>\n",
       "      <td>0</td>\n",
       "    </tr>\n",
       "    <tr>\n",
       "      <th>station_id</th>\n",
       "      <td>0069</td>\n",
       "      <td>0064</td>\n",
       "      <td>0148</td>\n",
       "      <td>0030</td>\n",
       "      <td>0067</td>\n",
       "    </tr>\n",
       "    <tr>\n",
       "      <th>is_daylight</th>\n",
       "      <td>0</td>\n",
       "      <td>0</td>\n",
       "      <td>0</td>\n",
       "      <td>0</td>\n",
       "      <td>0</td>\n",
       "    </tr>\n",
       "    <tr>\n",
       "      <th>num_returns</th>\n",
       "      <td>1</td>\n",
       "      <td>1</td>\n",
       "      <td>1</td>\n",
       "      <td>0</td>\n",
       "      <td>0</td>\n",
       "    </tr>\n",
       "    <tr>\n",
       "      <th>num_departures</th>\n",
       "      <td>0</td>\n",
       "      <td>0</td>\n",
       "      <td>0</td>\n",
       "      <td>1</td>\n",
       "      <td>1</td>\n",
       "    </tr>\n",
       "    <tr>\n",
       "      <th>TempC</th>\n",
       "      <td>1.2</td>\n",
       "      <td>0.9</td>\n",
       "      <td>0.9</td>\n",
       "      <td>0.9</td>\n",
       "      <td>0.9</td>\n",
       "    </tr>\n",
       "    <tr>\n",
       "      <th>RelHum</th>\n",
       "      <td>89</td>\n",
       "      <td>89</td>\n",
       "      <td>89</td>\n",
       "      <td>89</td>\n",
       "      <td>89</td>\n",
       "    </tr>\n",
       "    <tr>\n",
       "      <th>WindSpdkmh</th>\n",
       "      <td>8</td>\n",
       "      <td>2</td>\n",
       "      <td>2</td>\n",
       "      <td>2</td>\n",
       "      <td>2</td>\n",
       "    </tr>\n",
       "    <tr>\n",
       "      <th>Weather</th>\n",
       "      <td>0</td>\n",
       "      <td>0</td>\n",
       "      <td>0</td>\n",
       "      <td>0</td>\n",
       "      <td>0</td>\n",
       "    </tr>\n",
       "    <tr>\n",
       "      <th>Year</th>\n",
       "      <td>2017</td>\n",
       "      <td>2017</td>\n",
       "      <td>2017</td>\n",
       "      <td>2017</td>\n",
       "      <td>2017</td>\n",
       "    </tr>\n",
       "    <tr>\n",
       "      <th>Month</th>\n",
       "      <td>1</td>\n",
       "      <td>1</td>\n",
       "      <td>1</td>\n",
       "      <td>1</td>\n",
       "      <td>1</td>\n",
       "    </tr>\n",
       "    <tr>\n",
       "      <th>Hour</th>\n",
       "      <td>0</td>\n",
       "      <td>1</td>\n",
       "      <td>1</td>\n",
       "      <td>1</td>\n",
       "      <td>1</td>\n",
       "    </tr>\n",
       "  </tbody>\n",
       "</table>\n",
       "</div>"
      ],
      "text/plain": [
       "                   0     1     2     3     4\n",
       "is_weekend         1     1     1     1     1\n",
       "is_holiday         0     0     0     0     0\n",
       "station_id      0069  0064  0148  0030  0067\n",
       "is_daylight        0     0     0     0     0\n",
       "num_returns        1     1     1     0     0\n",
       "num_departures     0     0     0     1     1\n",
       "TempC            1.2   0.9   0.9   0.9   0.9\n",
       "RelHum            89    89    89    89    89\n",
       "WindSpdkmh         8     2     2     2     2\n",
       "Weather            0     0     0     0     0\n",
       "Year            2017  2017  2017  2017  2017\n",
       "Month              1     1     1     1     1\n",
       "Hour               0     1     1     1     1"
      ]
     },
     "execution_count": 94,
     "metadata": {},
     "output_type": "execute_result"
    }
   ],
   "source": [
    "#Add features for parts of timestamp (day of week already covered)\n",
    "model_data['Year']=model_data['Timestamp'].dt.year\n",
    "model_data['Month']=model_data['Timestamp'].dt.month\n",
    "model_data['Hour']=model_data['Timestamp'].dt.hour\n",
    "model_data.drop(columns=['Timestamp','daylight_start','daylight_end'],inplace=True)\n",
    "model_data.head().T"
   ]
  },
  {
   "cell_type": "code",
   "execution_count": 95,
   "metadata": {},
   "outputs": [],
   "source": [
    "# Generate test-train split before modeling starts\n",
    "\n",
    "model_ind=model_data.copy()\n",
    "\n",
    "model_dep=model_ind[['num_departures','num_returns']].copy()\n",
    "\n",
    "model_ind.drop(['num_departures','num_returns'],axis=1,inplace=True)\n",
    "\n",
    "(model_train_ind,model_test_ind,model_train_dep,model_test_dep) =\\\n",
    "  train_test_split(model_ind,model_dep,test_size=0.2,random_state=42)"
   ]
  },
  {
   "cell_type": "code",
   "execution_count": 175,
   "metadata": {},
   "outputs": [
    {
     "name": "stdout",
     "output_type": "stream",
     "text": [
      "\n",
      "Unsplit model data:\n"
     ]
    },
    {
     "data": {
      "text/html": [
       "<div>\n",
       "<style scoped>\n",
       "    .dataframe tbody tr th:only-of-type {\n",
       "        vertical-align: middle;\n",
       "    }\n",
       "\n",
       "    .dataframe tbody tr th {\n",
       "        vertical-align: top;\n",
       "    }\n",
       "\n",
       "    .dataframe thead th {\n",
       "        text-align: right;\n",
       "    }\n",
       "</style>\n",
       "<table border=\"1\" class=\"dataframe\">\n",
       "  <thead>\n",
       "    <tr style=\"text-align: right;\">\n",
       "      <th></th>\n",
       "      <th>rows</th>\n",
       "      <th>cols</th>\n",
       "    </tr>\n",
       "  </thead>\n",
       "  <tbody>\n",
       "    <tr>\n",
       "      <th>count</th>\n",
       "      <td>1574887</td>\n",
       "      <td>13</td>\n",
       "    </tr>\n",
       "  </tbody>\n",
       "</table>\n",
       "</div>"
      ],
      "text/plain": [
       "          rows  cols\n",
       "count  1574887    13"
      ]
     },
     "metadata": {},
     "output_type": "display_data"
    },
    {
     "name": "stdout",
     "output_type": "stream",
     "text": [
      "\n",
      "Train set X:\n"
     ]
    },
    {
     "data": {
      "text/html": [
       "<div>\n",
       "<style scoped>\n",
       "    .dataframe tbody tr th:only-of-type {\n",
       "        vertical-align: middle;\n",
       "    }\n",
       "\n",
       "    .dataframe tbody tr th {\n",
       "        vertical-align: top;\n",
       "    }\n",
       "\n",
       "    .dataframe thead th {\n",
       "        text-align: right;\n",
       "    }\n",
       "</style>\n",
       "<table border=\"1\" class=\"dataframe\">\n",
       "  <thead>\n",
       "    <tr style=\"text-align: right;\">\n",
       "      <th></th>\n",
       "      <th>rows</th>\n",
       "      <th>cols</th>\n",
       "    </tr>\n",
       "  </thead>\n",
       "  <tbody>\n",
       "    <tr>\n",
       "      <th>count</th>\n",
       "      <td>1259909</td>\n",
       "      <td>11</td>\n",
       "    </tr>\n",
       "  </tbody>\n",
       "</table>\n",
       "</div>"
      ],
      "text/plain": [
       "          rows  cols\n",
       "count  1259909    11"
      ]
     },
     "metadata": {},
     "output_type": "display_data"
    },
    {
     "name": "stdout",
     "output_type": "stream",
     "text": [
      "\n",
      "Train set Y:\n"
     ]
    },
    {
     "data": {
      "text/html": [
       "<div>\n",
       "<style scoped>\n",
       "    .dataframe tbody tr th:only-of-type {\n",
       "        vertical-align: middle;\n",
       "    }\n",
       "\n",
       "    .dataframe tbody tr th {\n",
       "        vertical-align: top;\n",
       "    }\n",
       "\n",
       "    .dataframe thead th {\n",
       "        text-align: right;\n",
       "    }\n",
       "</style>\n",
       "<table border=\"1\" class=\"dataframe\">\n",
       "  <thead>\n",
       "    <tr style=\"text-align: right;\">\n",
       "      <th></th>\n",
       "      <th>rows</th>\n",
       "      <th>cols</th>\n",
       "    </tr>\n",
       "  </thead>\n",
       "  <tbody>\n",
       "    <tr>\n",
       "      <th>count</th>\n",
       "      <td>1259909</td>\n",
       "      <td>2</td>\n",
       "    </tr>\n",
       "  </tbody>\n",
       "</table>\n",
       "</div>"
      ],
      "text/plain": [
       "          rows  cols\n",
       "count  1259909     2"
      ]
     },
     "metadata": {},
     "output_type": "display_data"
    },
    {
     "name": "stdout",
     "output_type": "stream",
     "text": [
      "\n",
      "Test set X:\n"
     ]
    },
    {
     "data": {
      "text/html": [
       "<div>\n",
       "<style scoped>\n",
       "    .dataframe tbody tr th:only-of-type {\n",
       "        vertical-align: middle;\n",
       "    }\n",
       "\n",
       "    .dataframe tbody tr th {\n",
       "        vertical-align: top;\n",
       "    }\n",
       "\n",
       "    .dataframe thead th {\n",
       "        text-align: right;\n",
       "    }\n",
       "</style>\n",
       "<table border=\"1\" class=\"dataframe\">\n",
       "  <thead>\n",
       "    <tr style=\"text-align: right;\">\n",
       "      <th></th>\n",
       "      <th>rows</th>\n",
       "      <th>cols</th>\n",
       "    </tr>\n",
       "  </thead>\n",
       "  <tbody>\n",
       "    <tr>\n",
       "      <th>count</th>\n",
       "      <td>314978</td>\n",
       "      <td>11</td>\n",
       "    </tr>\n",
       "  </tbody>\n",
       "</table>\n",
       "</div>"
      ],
      "text/plain": [
       "         rows  cols\n",
       "count  314978    11"
      ]
     },
     "metadata": {},
     "output_type": "display_data"
    },
    {
     "name": "stdout",
     "output_type": "stream",
     "text": [
      "\n",
      "Test set Y:\n"
     ]
    },
    {
     "data": {
      "text/html": [
       "<div>\n",
       "<style scoped>\n",
       "    .dataframe tbody tr th:only-of-type {\n",
       "        vertical-align: middle;\n",
       "    }\n",
       "\n",
       "    .dataframe tbody tr th {\n",
       "        vertical-align: top;\n",
       "    }\n",
       "\n",
       "    .dataframe thead th {\n",
       "        text-align: right;\n",
       "    }\n",
       "</style>\n",
       "<table border=\"1\" class=\"dataframe\">\n",
       "  <thead>\n",
       "    <tr style=\"text-align: right;\">\n",
       "      <th></th>\n",
       "      <th>rows</th>\n",
       "      <th>cols</th>\n",
       "    </tr>\n",
       "  </thead>\n",
       "  <tbody>\n",
       "    <tr>\n",
       "      <th>count</th>\n",
       "      <td>314978</td>\n",
       "      <td>2</td>\n",
       "    </tr>\n",
       "  </tbody>\n",
       "</table>\n",
       "</div>"
      ],
      "text/plain": [
       "         rows  cols\n",
       "count  314978     2"
      ]
     },
     "metadata": {},
     "output_type": "display_data"
    }
   ],
   "source": [
    "pretty_shape(model_data,\"Unsplit model data\")\n",
    "pretty_shape(model_train_ind,\"Train set X\")\n",
    "pretty_shape(model_train_dep,\"Train set Y\")\n",
    "pretty_shape(model_test_ind,\"Test set X\")\n",
    "pretty_shape(model_test_dep,\"Test set Y\")"
   ]
  },
  {
   "cell_type": "code",
   "execution_count": 98,
   "metadata": {},
   "outputs": [
    {
     "name": "stdout",
     "output_type": "stream",
     "text": [
      "CPU times: user 3 µs, sys: 0 ns, total: 3 µs\n",
      "Wall time: 16.2 µs\n"
     ]
    }
   ],
   "source": [
    "#Write out the dataframes of interest, for future reference\n",
    "data_dir='../data'\n",
    "trip_data_raw.to_csv(f'{data_dir}/trip_data_raw.csv.zip',compression='zip',index=False)\n",
    "weather_data_raw.to_csv(f'{data_dir}/weather_data_raw.csv',index=False)\n",
    "sun_data_raw.to_csv(f'{data_dir}/sun_data_raw.csv',index=False)\n",
    "daytime_lookup_df.to_csv(f'{data_dir}/daytime_lookup_df.csv',index=False)\n",
    "station_summary_df.to_csv(f'{data_dir}/station_summary_df.csv.zip',compression='zip',index=False)\n",
    "model_data.to_csv(f'{data_dir}/model_data.csv.zip',compression='zip',index=False)\n",
    "model_train_dep.to_csv(f'{data_dir}/model_train_dep.csv.zip',compression='zip',index=False)\n",
    "model_train_ind.to_csv(f'{data_dir}/model_train_ind.csv.zip',compression='zip',index=False)\n",
    "model_test_dep.to_csv(f'{data_dir}/model_test_dep.csv.zip',compression='zip',index=False)\n",
    "model_test_ind.to_csv(f'{data_dir}/model_test_ind.csv.zip',compression='zip',index=False)\n"
   ]
  },
  {
   "cell_type": "markdown",
   "metadata": {},
   "source": [
    "## Station clustering\n",
    "After two modeling iterations with station-level data, training accuracy scores on our chosen models were not high enough to provide useful results.  We return to the main model data and aggregate it based on our station clusters established in the modeling notebook."
   ]
  },
  {
   "cell_type": "code",
   "execution_count": 100,
   "metadata": {},
   "outputs": [],
   "source": [
    "stations_df=pd.read_csv(f'{data_dir}/station_clusters.csv')"
   ]
  },
  {
   "cell_type": "code",
   "execution_count": 116,
   "metadata": {},
   "outputs": [],
   "source": [
    "#running through data assembly again, summarizing on cluster_id instead of station_id\n",
    "station_summary_clustered=station_summary_df.copy()\n",
    "station_summary_clustered['station_id']=\\\n",
    "    station_summary_clustered['station_id'].astype('int')"
   ]
  },
  {
   "cell_type": "code",
   "execution_count": 177,
   "metadata": {},
   "outputs": [
    {
     "name": "stdout",
     "output_type": "stream",
     "text": [
      "\n",
      "Starting point before summarizing by cluster:\n"
     ]
    },
    {
     "data": {
      "text/html": [
       "<div>\n",
       "<style scoped>\n",
       "    .dataframe tbody tr th:only-of-type {\n",
       "        vertical-align: middle;\n",
       "    }\n",
       "\n",
       "    .dataframe tbody tr th {\n",
       "        vertical-align: top;\n",
       "    }\n",
       "\n",
       "    .dataframe thead th {\n",
       "        text-align: right;\n",
       "    }\n",
       "</style>\n",
       "<table border=\"1\" class=\"dataframe\">\n",
       "  <thead>\n",
       "    <tr style=\"text-align: right;\">\n",
       "      <th></th>\n",
       "      <th>rows</th>\n",
       "      <th>cols</th>\n",
       "    </tr>\n",
       "  </thead>\n",
       "  <tbody>\n",
       "    <tr>\n",
       "      <th>count</th>\n",
       "      <td>231162</td>\n",
       "      <td>11</td>\n",
       "    </tr>\n",
       "  </tbody>\n",
       "</table>\n",
       "</div>"
      ],
      "text/plain": [
       "         rows  cols\n",
       "count  231162    11"
      ]
     },
     "metadata": {},
     "output_type": "display_data"
    }
   ],
   "source": [
    "pretty_shape(station_summary_clustered,\n",
    "             \"Starting point before summarizing by cluster\")"
   ]
  },
  {
   "cell_type": "code",
   "execution_count": 118,
   "metadata": {},
   "outputs": [],
   "source": [
    "#Add station cluster number\n",
    "station_summary_clustered=pd.merge(station_summary_clustered,stations_df[['station_id','station_cluster']],\n",
    "                       how='inner',\n",
    "                       on=['station_id'])\n",
    "station_summary_clustered.head().T"
   ]
  },
  {
   "cell_type": "code",
   "execution_count": 137,
   "metadata": {},
   "outputs": [],
   "source": [
    "station_summary_clustered.groupby(['Timestamp','station_cluster']).agg({'num_returns':'sum',\n",
    "                                                                        'num_departures':'sum'}).reset_index()\n",
    "station_summary_clustered.drop(columns=['station_id','daylight_start','daylight_end'],inplace=True)"
   ]
  },
  {
   "cell_type": "code",
   "execution_count": 141,
   "metadata": {},
   "outputs": [],
   "source": [
    "station_summary_clustered=station_summary_clustered.groupby(['Timestamp','is_weekend','is_holiday','is_daylight','TempC',\n",
    "                                  'RelHum','WindSpdkmh','Weather','station_cluster']).agg({'num_returns':'sum',\n",
    "                                                                        'num_departures':'sum'}).reset_index()"
   ]
  },
  {
   "cell_type": "code",
   "execution_count": 179,
   "metadata": {},
   "outputs": [
    {
     "name": "stdout",
     "output_type": "stream",
     "text": [
      "\n",
      "After aggregating by station cluster:\n"
     ]
    },
    {
     "data": {
      "text/html": [
       "<div>\n",
       "<style scoped>\n",
       "    .dataframe tbody tr th:only-of-type {\n",
       "        vertical-align: middle;\n",
       "    }\n",
       "\n",
       "    .dataframe tbody tr th {\n",
       "        vertical-align: top;\n",
       "    }\n",
       "\n",
       "    .dataframe thead th {\n",
       "        text-align: right;\n",
       "    }\n",
       "</style>\n",
       "<table border=\"1\" class=\"dataframe\">\n",
       "  <thead>\n",
       "    <tr style=\"text-align: right;\">\n",
       "      <th></th>\n",
       "      <th>rows</th>\n",
       "      <th>cols</th>\n",
       "    </tr>\n",
       "  </thead>\n",
       "  <tbody>\n",
       "    <tr>\n",
       "      <th>count</th>\n",
       "      <td>231162</td>\n",
       "      <td>11</td>\n",
       "    </tr>\n",
       "  </tbody>\n",
       "</table>\n",
       "</div>"
      ],
      "text/plain": [
       "         rows  cols\n",
       "count  231162    11"
      ]
     },
     "metadata": {},
     "output_type": "display_data"
    }
   ],
   "source": [
    "pretty_shape(station_summary_clustered,\n",
    "             \"After aggregating by station cluster\")"
   ]
  },
  {
   "cell_type": "code",
   "execution_count": 147,
   "metadata": {},
   "outputs": [],
   "source": [
    "# A little bit of copypasta from the modeling notebook\n",
    "\n",
    "def encode_clustered(my_df):\n",
    "    my_df = pd.get_dummies(my_df,\n",
    "                         prefix = { 'station_cluster' : 'stn_cluster'},\n",
    "                         columns = ['station_cluster'])\n",
    "    my_df['Year']=my_df['Timestamp'].dt.year\n",
    "    my_df['Month']=my_df['Timestamp'].dt.month\n",
    "    my_df['Hour']=my_df['Timestamp'].dt.hour\n",
    "    my_df['is_overnight'] = ((my_df['Hour']>22)|(my_df['Hour']<6))\\\n",
    "                            .astype(pd.SparseDtype(int, fill_value=0))\n",
    "    my_df['is_morning']   = my_df['Hour'].between(6,9)\\\n",
    "                            .astype(pd.SparseDtype(int, fill_value=0))\n",
    "    my_df['is_midday']    = my_df['Hour'].between(10,14)\\\n",
    "                            .astype(pd.SparseDtype(int, fill_value=0))\n",
    "    my_df['is_lateaft']   = my_df['Hour'].between(15,18)\\\n",
    "                            .astype(pd.SparseDtype(int, fill_value=0))\n",
    "    my_df['is_evening']   = my_df['Hour'].between(19,22)\\\n",
    "                            .astype(pd.SparseDtype(int, fill_value=0))\n",
    "    my_df['is_winter']    = ((my_df['Month'] == 12) | (my_df['Month'] < 3))\\\n",
    "                            .astype(pd.SparseDtype(int, fill_value=0))\n",
    "    my_df['is_spring']    = my_df['Month'].between(3,5)\\\n",
    "                            .astype(pd.SparseDtype(int, fill_value=0))\n",
    "    my_df['is_summer']    = my_df['Month'].between(6,8)\\\n",
    "                            .astype(pd.SparseDtype(int, fill_value=0))\n",
    "    my_df['is_autumn']    = my_df['Month'].between(9,11)\\\n",
    "                            .astype(pd.SparseDtype(int, fill_value=0))\n",
    "    my_df.drop(columns=['Hour','Year','Month','Timestamp'],inplace=True)\n",
    "    return my_df"
   ]
  },
  {
   "cell_type": "code",
   "execution_count": 148,
   "metadata": {},
   "outputs": [],
   "source": [
    "model_data_clustered=encode_clustered(station_summary_clustered.copy())"
   ]
  },
  {
   "cell_type": "code",
   "execution_count": 180,
   "metadata": {},
   "outputs": [
    {
     "name": "stdout",
     "output_type": "stream",
     "text": [
      "\n",
      "Data aggregated by cluster and re-encoded:\n"
     ]
    },
    {
     "data": {
      "text/html": [
       "<div>\n",
       "<style scoped>\n",
       "    .dataframe tbody tr th:only-of-type {\n",
       "        vertical-align: middle;\n",
       "    }\n",
       "\n",
       "    .dataframe tbody tr th {\n",
       "        vertical-align: top;\n",
       "    }\n",
       "\n",
       "    .dataframe thead th {\n",
       "        text-align: right;\n",
       "    }\n",
       "</style>\n",
       "<table border=\"1\" class=\"dataframe\">\n",
       "  <thead>\n",
       "    <tr style=\"text-align: right;\">\n",
       "      <th></th>\n",
       "      <th>rows</th>\n",
       "      <th>cols</th>\n",
       "    </tr>\n",
       "  </thead>\n",
       "  <tbody>\n",
       "    <tr>\n",
       "      <th>count</th>\n",
       "      <td>231162</td>\n",
       "      <td>29</td>\n",
       "    </tr>\n",
       "  </tbody>\n",
       "</table>\n",
       "</div>"
      ],
      "text/plain": [
       "         rows  cols\n",
       "count  231162    29"
      ]
     },
     "metadata": {},
     "output_type": "display_data"
    }
   ],
   "source": [
    "pretty_shape(model_data_clustered,\"Data aggregated by cluster and re-encoded\")"
   ]
  },
  {
   "cell_type": "code",
   "execution_count": 152,
   "metadata": {},
   "outputs": [
    {
     "data": {
      "text/html": [
       "<div>\n",
       "<style scoped>\n",
       "    .dataframe tbody tr th:only-of-type {\n",
       "        vertical-align: middle;\n",
       "    }\n",
       "\n",
       "    .dataframe tbody tr th {\n",
       "        vertical-align: top;\n",
       "    }\n",
       "\n",
       "    .dataframe thead th {\n",
       "        text-align: right;\n",
       "    }\n",
       "</style>\n",
       "<table border=\"1\" class=\"dataframe\">\n",
       "  <thead>\n",
       "    <tr style=\"text-align: right;\">\n",
       "      <th></th>\n",
       "      <th>0</th>\n",
       "      <th>1</th>\n",
       "      <th>2</th>\n",
       "      <th>3</th>\n",
       "      <th>4</th>\n",
       "    </tr>\n",
       "  </thead>\n",
       "  <tbody>\n",
       "    <tr>\n",
       "      <th>is_weekend</th>\n",
       "      <td>1</td>\n",
       "      <td>1</td>\n",
       "      <td>1</td>\n",
       "      <td>1</td>\n",
       "      <td>1</td>\n",
       "    </tr>\n",
       "    <tr>\n",
       "      <th>is_holiday</th>\n",
       "      <td>0</td>\n",
       "      <td>0</td>\n",
       "      <td>0</td>\n",
       "      <td>0</td>\n",
       "      <td>0</td>\n",
       "    </tr>\n",
       "    <tr>\n",
       "      <th>is_daylight</th>\n",
       "      <td>0</td>\n",
       "      <td>0</td>\n",
       "      <td>0</td>\n",
       "      <td>0</td>\n",
       "      <td>0</td>\n",
       "    </tr>\n",
       "    <tr>\n",
       "      <th>TempC</th>\n",
       "      <td>1.2</td>\n",
       "      <td>0.9</td>\n",
       "      <td>1.2</td>\n",
       "      <td>1.2</td>\n",
       "      <td>1.2</td>\n",
       "    </tr>\n",
       "    <tr>\n",
       "      <th>RelHum</th>\n",
       "      <td>89</td>\n",
       "      <td>89</td>\n",
       "      <td>96</td>\n",
       "      <td>96</td>\n",
       "      <td>96</td>\n",
       "    </tr>\n",
       "    <tr>\n",
       "      <th>WindSpdkmh</th>\n",
       "      <td>8</td>\n",
       "      <td>2</td>\n",
       "      <td>4</td>\n",
       "      <td>4</td>\n",
       "      <td>4</td>\n",
       "    </tr>\n",
       "    <tr>\n",
       "      <th>Weather</th>\n",
       "      <td>0</td>\n",
       "      <td>0</td>\n",
       "      <td>0</td>\n",
       "      <td>0</td>\n",
       "      <td>0</td>\n",
       "    </tr>\n",
       "    <tr>\n",
       "      <th>num_returns</th>\n",
       "      <td>1</td>\n",
       "      <td>2</td>\n",
       "      <td>1</td>\n",
       "      <td>0</td>\n",
       "      <td>0</td>\n",
       "    </tr>\n",
       "    <tr>\n",
       "      <th>num_departures</th>\n",
       "      <td>0</td>\n",
       "      <td>1</td>\n",
       "      <td>0</td>\n",
       "      <td>1</td>\n",
       "      <td>2</td>\n",
       "    </tr>\n",
       "    <tr>\n",
       "      <th>stn_cluster_0</th>\n",
       "      <td>0</td>\n",
       "      <td>0</td>\n",
       "      <td>1</td>\n",
       "      <td>0</td>\n",
       "      <td>0</td>\n",
       "    </tr>\n",
       "    <tr>\n",
       "      <th>stn_cluster_1</th>\n",
       "      <td>0</td>\n",
       "      <td>0</td>\n",
       "      <td>0</td>\n",
       "      <td>1</td>\n",
       "      <td>0</td>\n",
       "    </tr>\n",
       "    <tr>\n",
       "      <th>stn_cluster_2</th>\n",
       "      <td>0</td>\n",
       "      <td>0</td>\n",
       "      <td>0</td>\n",
       "      <td>0</td>\n",
       "      <td>0</td>\n",
       "    </tr>\n",
       "    <tr>\n",
       "      <th>stn_cluster_3</th>\n",
       "      <td>0</td>\n",
       "      <td>0</td>\n",
       "      <td>0</td>\n",
       "      <td>0</td>\n",
       "      <td>1</td>\n",
       "    </tr>\n",
       "    <tr>\n",
       "      <th>stn_cluster_4</th>\n",
       "      <td>0</td>\n",
       "      <td>0</td>\n",
       "      <td>0</td>\n",
       "      <td>0</td>\n",
       "      <td>0</td>\n",
       "    </tr>\n",
       "    <tr>\n",
       "      <th>stn_cluster_5</th>\n",
       "      <td>0</td>\n",
       "      <td>0</td>\n",
       "      <td>0</td>\n",
       "      <td>0</td>\n",
       "      <td>0</td>\n",
       "    </tr>\n",
       "    <tr>\n",
       "      <th>stn_cluster_6</th>\n",
       "      <td>1</td>\n",
       "      <td>0</td>\n",
       "      <td>0</td>\n",
       "      <td>0</td>\n",
       "      <td>0</td>\n",
       "    </tr>\n",
       "    <tr>\n",
       "      <th>stn_cluster_7</th>\n",
       "      <td>0</td>\n",
       "      <td>1</td>\n",
       "      <td>0</td>\n",
       "      <td>0</td>\n",
       "      <td>0</td>\n",
       "    </tr>\n",
       "    <tr>\n",
       "      <th>stn_cluster_8</th>\n",
       "      <td>0</td>\n",
       "      <td>0</td>\n",
       "      <td>0</td>\n",
       "      <td>0</td>\n",
       "      <td>0</td>\n",
       "    </tr>\n",
       "    <tr>\n",
       "      <th>stn_cluster_9</th>\n",
       "      <td>0</td>\n",
       "      <td>0</td>\n",
       "      <td>0</td>\n",
       "      <td>0</td>\n",
       "      <td>0</td>\n",
       "    </tr>\n",
       "    <tr>\n",
       "      <th>stn_cluster_10</th>\n",
       "      <td>0</td>\n",
       "      <td>0</td>\n",
       "      <td>0</td>\n",
       "      <td>0</td>\n",
       "      <td>0</td>\n",
       "    </tr>\n",
       "    <tr>\n",
       "      <th>is_overnight</th>\n",
       "      <td>1</td>\n",
       "      <td>1</td>\n",
       "      <td>1</td>\n",
       "      <td>1</td>\n",
       "      <td>1</td>\n",
       "    </tr>\n",
       "    <tr>\n",
       "      <th>is_morning</th>\n",
       "      <td>0</td>\n",
       "      <td>0</td>\n",
       "      <td>0</td>\n",
       "      <td>0</td>\n",
       "      <td>0</td>\n",
       "    </tr>\n",
       "    <tr>\n",
       "      <th>is_midday</th>\n",
       "      <td>0</td>\n",
       "      <td>0</td>\n",
       "      <td>0</td>\n",
       "      <td>0</td>\n",
       "      <td>0</td>\n",
       "    </tr>\n",
       "    <tr>\n",
       "      <th>is_lateaft</th>\n",
       "      <td>0</td>\n",
       "      <td>0</td>\n",
       "      <td>0</td>\n",
       "      <td>0</td>\n",
       "      <td>0</td>\n",
       "    </tr>\n",
       "    <tr>\n",
       "      <th>is_evening</th>\n",
       "      <td>0</td>\n",
       "      <td>0</td>\n",
       "      <td>0</td>\n",
       "      <td>0</td>\n",
       "      <td>0</td>\n",
       "    </tr>\n",
       "    <tr>\n",
       "      <th>is_winter</th>\n",
       "      <td>1</td>\n",
       "      <td>1</td>\n",
       "      <td>1</td>\n",
       "      <td>1</td>\n",
       "      <td>1</td>\n",
       "    </tr>\n",
       "    <tr>\n",
       "      <th>is_spring</th>\n",
       "      <td>0</td>\n",
       "      <td>0</td>\n",
       "      <td>0</td>\n",
       "      <td>0</td>\n",
       "      <td>0</td>\n",
       "    </tr>\n",
       "    <tr>\n",
       "      <th>is_summer</th>\n",
       "      <td>0</td>\n",
       "      <td>0</td>\n",
       "      <td>0</td>\n",
       "      <td>0</td>\n",
       "      <td>0</td>\n",
       "    </tr>\n",
       "    <tr>\n",
       "      <th>is_autumn</th>\n",
       "      <td>0</td>\n",
       "      <td>0</td>\n",
       "      <td>0</td>\n",
       "      <td>0</td>\n",
       "      <td>0</td>\n",
       "    </tr>\n",
       "  </tbody>\n",
       "</table>\n",
       "</div>"
      ],
      "text/plain": [
       "                  0    1    2    3    4\n",
       "is_weekend        1    1    1    1    1\n",
       "is_holiday        0    0    0    0    0\n",
       "is_daylight       0    0    0    0    0\n",
       "TempC           1.2  0.9  1.2  1.2  1.2\n",
       "RelHum           89   89   96   96   96\n",
       "WindSpdkmh        8    2    4    4    4\n",
       "Weather           0    0    0    0    0\n",
       "num_returns       1    2    1    0    0\n",
       "num_departures    0    1    0    1    2\n",
       "stn_cluster_0     0    0    1    0    0\n",
       "stn_cluster_1     0    0    0    1    0\n",
       "stn_cluster_2     0    0    0    0    0\n",
       "stn_cluster_3     0    0    0    0    1\n",
       "stn_cluster_4     0    0    0    0    0\n",
       "stn_cluster_5     0    0    0    0    0\n",
       "stn_cluster_6     1    0    0    0    0\n",
       "stn_cluster_7     0    1    0    0    0\n",
       "stn_cluster_8     0    0    0    0    0\n",
       "stn_cluster_9     0    0    0    0    0\n",
       "stn_cluster_10    0    0    0    0    0\n",
       "is_overnight      1    1    1    1    1\n",
       "is_morning        0    0    0    0    0\n",
       "is_midday         0    0    0    0    0\n",
       "is_lateaft        0    0    0    0    0\n",
       "is_evening        0    0    0    0    0\n",
       "is_winter         1    1    1    1    1\n",
       "is_spring         0    0    0    0    0\n",
       "is_summer         0    0    0    0    0\n",
       "is_autumn         0    0    0    0    0"
      ]
     },
     "execution_count": 152,
     "metadata": {},
     "output_type": "execute_result"
    }
   ],
   "source": [
    "model_data_clustered.head().T"
   ]
  },
  {
   "cell_type": "code",
   "execution_count": 154,
   "metadata": {},
   "outputs": [
    {
     "name": "stdout",
     "output_type": "stream",
     "text": [
      "\n",
      "Unsplit model data shape: (231162, 29)\n",
      "\n",
      "Train set X shape: (184929, 27)\n",
      "\n",
      "Train set Y shape: (184929, 2)\n",
      "\n",
      "Test set X shape: (46233, 27)\n",
      "\n",
      "Test set Y shape: (46233, 2)\n"
     ]
    }
   ],
   "source": [
    "# Generate test-train split before modeling round 3 starts\n",
    "# This is not a 100% clean approach, since we returned the to the dataset\n",
    "# midway through the modeling exercise.  At this point, however, we haven't \n",
    "# Looked at the test set for the unclustered data, either. \n",
    "\n",
    "clu_model_ind=model_data_clustered.copy()\n",
    "\n",
    "clu_model_dep=clu_model_ind[['num_departures','num_returns']].copy()\n",
    "\n",
    "clu_model_ind.drop(['num_departures','num_returns'],axis=1,inplace=True)\n",
    "\n",
    "(clu_model_train_ind,clu_model_test_ind,clu_model_train_dep,clu_model_test_dep) =\\\n",
    "  train_test_split(clu_model_ind,clu_model_dep,test_size=0.2,random_state=42)\n",
    "\n",
    "pretty_shape(model_data_clustered,\"Unsplit model data\")\n",
    "pretty_shape(clu_model_train_ind,\"Train set X\")\n",
    "pretty_shape(clu_model_train_dep,\"Train set Y\")\n",
    "pretty_shape(clu_model_test_ind,\"Test set X\")\n",
    "pretty_shape(clu_model_test_dep,\"Test set Y\")"
   ]
  },
  {
   "cell_type": "code",
   "execution_count": 155,
   "metadata": {},
   "outputs": [],
   "source": [
    "model_data_clustered.to_csv(f'{data_dir}/model_data_clustered.csv.zip',compression='zip',index=False)\n",
    "clu_model_train_dep.to_csv(f'{data_dir}/clu_model_train_dep.csv.zip',compression='zip',index=False)\n",
    "clu_model_train_ind.to_csv(f'{data_dir}/clu_model_train_ind.csv.zip',compression='zip',index=False)\n",
    "clu_model_test_dep.to_csv(f'{data_dir}/clu_model_test_dep.csv.zip',compression='zip',index=False)\n",
    "clu_model_test_ind.to_csv(f'{data_dir}/clu_model_test_ind.csv.zip',compression='zip',index=False)"
   ]
  },
  {
   "cell_type": "code",
   "execution_count": null,
   "metadata": {},
   "outputs": [],
   "source": []
  }
 ],
 "metadata": {
  "kernelspec": {
   "display_name": "bscap",
   "language": "python",
   "name": "bscap"
  },
  "language_info": {
   "codemirror_mode": {
    "name": "ipython",
    "version": 3
   },
   "file_extension": ".py",
   "mimetype": "text/x-python",
   "name": "python",
   "nbconvert_exporter": "python",
   "pygments_lexer": "ipython3",
   "version": "3.7.6"
  }
 },
 "nbformat": 4,
 "nbformat_minor": 4
}
